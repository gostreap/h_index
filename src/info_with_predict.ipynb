{
 "cells": [
  {
   "cell_type": "code",
   "execution_count": 16,
   "metadata": {},
   "outputs": [
    {
     "name": "stderr",
     "output_type": "stream",
     "text": [
      "/tmp/ipykernel_12436/4270617558.py:2: DtypeWarning: Columns (5) have mixed types.Specify dtype option on import or set low_memory=False.\n",
      "  data = get_processed_data(split=False)\n",
      "/tmp/ipykernel_12436/4270617558.py:4: DtypeWarning: Columns (5) have mixed types.Specify dtype option on import or set low_memory=False.\n",
      "  X_train, y_train, X_test, y_test = get_submission_data()\n"
     ]
    }
   ],
   "source": [
    "from fasttext_utils import get_submission_data, get_processed_data, select_columns, TRAIN_LENGTH\n",
    "data = get_processed_data(split=False)\n",
    "data = select_columns(data)\n",
    "X_train, y_train, X_test, y_test = get_submission_data()"
   ]
  },
  {
   "cell_type": "code",
   "execution_count": 18,
   "metadata": {},
   "outputs": [],
   "source": [
    "from catboost import CatBoostRegressor\n",
    "model_cat = CatBoostRegressor(verbose=False, num_trees=2000)\n",
    "model_cat.fit(X_train, y_train)\n",
    "mod_preds = model_cat.predict(X_test)"
   ]
  },
  {
   "cell_type": "code",
   "execution_count": 19,
   "metadata": {},
   "outputs": [
    {
     "name": "stderr",
     "output_type": "stream",
     "text": [
      "/tmp/ipykernel_12436/3334646342.py:2: SettingWithCopyWarning: \n",
      "A value is trying to be set on a copy of a slice from a DataFrame\n",
      "\n",
      "See the caveats in the documentation: https://pandas.pydata.org/pandas-docs/stable/user_guide/indexing.html#returning-a-view-versus-a-copy\n",
      "  data[\"hindex\"][data[\"hindex\"] < 0] = 0\n"
     ]
    },
    {
     "data": {
      "text/plain": [
       "count    217801.000000\n",
       "mean         10.084120\n",
       "std          12.140968\n",
       "min           0.000000\n",
       "25%           3.000000\n",
       "50%           6.000000\n",
       "75%          12.220893\n",
       "max         187.000000\n",
       "Name: hindex, dtype: float64"
      ]
     },
     "execution_count": 19,
     "metadata": {},
     "output_type": "execute_result"
    }
   ],
   "source": [
    "data[\"hindex\"][TRAIN_LENGTH:] = mod_preds\n",
    "data[\"hindex\"][data[\"hindex\"] < 0] = 0\n",
    "data[\"hindex\"].describe()"
   ]
  },
  {
   "cell_type": "code",
   "execution_count": null,
   "metadata": {},
   "outputs": [],
   "source": [
    "from fasttext_utils import TRAIN_LENGTH\n",
    "from sklearn.model_selection import train_test_split\n",
    "train_np, test_np = train_test_split(data[:TRAIN_LENGTH], random_state=1)\n",
    "X_train = train_np.drop(\n",
    "    [\"author\", \"hindex\"], axis=1\n",
    ").to_numpy()\n",
    "y_train = train_np[\"hindex\"].to_numpy()\n",
    "X_test = test_np.drop(\n",
    "    [\"author\", \"hindex\"], axis=1\n",
    ").to_numpy()\n",
    "y_test = test_np[\"hindex\"].to_numpy()\n",
    "print(X_train.shape, X_test.shape)"
   ]
  },
  {
   "cell_type": "code",
   "execution_count": 28,
   "metadata": {},
   "outputs": [
    {
     "data": {
      "text/plain": [
       "50.21005096331262"
      ]
     },
     "execution_count": 28,
     "metadata": {},
     "output_type": "execute_result"
    }
   ],
   "source": [
    "from catboost import CatBoostRegressor\n",
    "from sklearn.metrics import mean_squared_error\n",
    "model_cat = CatBoostRegressor(verbose=False, num_trees=2000)\n",
    "model_cat.fit(X_train, y_train)\n",
    "mod_preds = model_cat.predict(X_test)\n",
    "mean_squared_error(y_test,mod_preds)"
   ]
  },
  {
   "cell_type": "code",
   "execution_count": 27,
   "metadata": {},
   "outputs": [
    {
     "data": {
      "text/plain": [
       "4"
      ]
     },
     "execution_count": 27,
     "metadata": {},
     "output_type": "execute_result"
    }
   ],
   "source": [
    "int(data[data[\"author\"] == 1964267543][\"hindex\"])"
   ]
  },
  {
   "cell_type": "code",
   "execution_count": 25,
   "metadata": {},
   "outputs": [
    {
     "data": {
      "text/html": [
       "<div>\n",
       "<style scoped>\n",
       "    .dataframe tbody tr th:only-of-type {\n",
       "        vertical-align: middle;\n",
       "    }\n",
       "\n",
       "    .dataframe tbody tr th {\n",
       "        vertical-align: top;\n",
       "    }\n",
       "\n",
       "    .dataframe thead th {\n",
       "        text-align: right;\n",
       "    }\n",
       "</style>\n",
       "<table border=\"1\" class=\"dataframe\">\n",
       "  <thead>\n",
       "    <tr style=\"text-align: right;\">\n",
       "      <th></th>\n",
       "      <th>author</th>\n",
       "      <th>hindex</th>\n",
       "      <th>nb_paper</th>\n",
       "      <th>pagerank</th>\n",
       "      <th>authority</th>\n",
       "      <th>clustering_coef</th>\n",
       "      <th>n_neighbors_dist_1</th>\n",
       "      <th>mean_neighbors_dist_1</th>\n",
       "      <th>max_neighbors_dist_1</th>\n",
       "      <th>vector_coord_0</th>\n",
       "      <th>vector_coord_1</th>\n",
       "    </tr>\n",
       "  </thead>\n",
       "  <tbody>\n",
       "    <tr>\n",
       "      <th>0</th>\n",
       "      <td>1964267543</td>\n",
       "      <td>4.0</td>\n",
       "      <td>5</td>\n",
       "      <td>0.000004</td>\n",
       "      <td>3.339138e-13</td>\n",
       "      <td>1.000000</td>\n",
       "      <td>5</td>\n",
       "      <td>21.800000</td>\n",
       "      <td>39</td>\n",
       "      <td>-0.186604</td>\n",
       "      <td>0.288065</td>\n",
       "    </tr>\n",
       "    <tr>\n",
       "      <th>1</th>\n",
       "      <td>2153592714</td>\n",
       "      <td>13.0</td>\n",
       "      <td>5</td>\n",
       "      <td>0.000002</td>\n",
       "      <td>1.433035e-17</td>\n",
       "      <td>1.000000</td>\n",
       "      <td>2</td>\n",
       "      <td>20.000000</td>\n",
       "      <td>20</td>\n",
       "      <td>-0.239073</td>\n",
       "      <td>0.446518</td>\n",
       "    </tr>\n",
       "    <tr>\n",
       "      <th>2</th>\n",
       "      <td>217158525</td>\n",
       "      <td>8.0</td>\n",
       "      <td>5</td>\n",
       "      <td>0.000003</td>\n",
       "      <td>6.750288e-20</td>\n",
       "      <td>1.000000</td>\n",
       "      <td>2</td>\n",
       "      <td>2.000000</td>\n",
       "      <td>2</td>\n",
       "      <td>-0.225883</td>\n",
       "      <td>0.357737</td>\n",
       "    </tr>\n",
       "    <tr>\n",
       "      <th>3</th>\n",
       "      <td>2123103677</td>\n",
       "      <td>11.0</td>\n",
       "      <td>3</td>\n",
       "      <td>0.000005</td>\n",
       "      <td>7.714573e-16</td>\n",
       "      <td>0.714286</td>\n",
       "      <td>7</td>\n",
       "      <td>11.833333</td>\n",
       "      <td>54</td>\n",
       "      <td>-0.174987</td>\n",
       "      <td>0.208499</td>\n",
       "    </tr>\n",
       "    <tr>\n",
       "      <th>4</th>\n",
       "      <td>2067710487</td>\n",
       "      <td>3.0</td>\n",
       "      <td>2</td>\n",
       "      <td>0.000004</td>\n",
       "      <td>-1.444459e-26</td>\n",
       "      <td>0.000000</td>\n",
       "      <td>2</td>\n",
       "      <td>9.841160</td>\n",
       "      <td>12</td>\n",
       "      <td>-0.170414</td>\n",
       "      <td>0.257662</td>\n",
       "    </tr>\n",
       "  </tbody>\n",
       "</table>\n",
       "</div>"
      ],
      "text/plain": [
       "       author  hindex  nb_paper  pagerank     authority  clustering_coef  \\\n",
       "0  1964267543     4.0         5  0.000004  3.339138e-13         1.000000   \n",
       "1  2153592714    13.0         5  0.000002  1.433035e-17         1.000000   \n",
       "2   217158525     8.0         5  0.000003  6.750288e-20         1.000000   \n",
       "3  2123103677    11.0         3  0.000005  7.714573e-16         0.714286   \n",
       "4  2067710487     3.0         2  0.000004 -1.444459e-26         0.000000   \n",
       "\n",
       "   n_neighbors_dist_1  mean_neighbors_dist_1  max_neighbors_dist_1  \\\n",
       "0                   5              21.800000                    39   \n",
       "1                   2              20.000000                    20   \n",
       "2                   2               2.000000                     2   \n",
       "3                   7              11.833333                    54   \n",
       "4                   2               9.841160                    12   \n",
       "\n",
       "   vector_coord_0  vector_coord_1  \n",
       "0       -0.186604        0.288065  \n",
       "1       -0.239073        0.446518  \n",
       "2       -0.225883        0.357737  \n",
       "3       -0.174987        0.208499  \n",
       "4       -0.170414        0.257662  "
      ]
     },
     "execution_count": 25,
     "metadata": {},
     "output_type": "execute_result"
    }
   ],
   "source": [
    "data.describe()"
   ]
  },
  {
   "cell_type": "code",
   "execution_count": 38,
   "metadata": {},
   "outputs": [
    {
     "name": "stderr",
     "output_type": "stream",
     "text": [
      "100%|██████████| 217801/217801 [00:01<00:00, 117490.31it/s]\n"
     ]
    }
   ],
   "source": [
    "from read_data import get_graph\n",
    "from tqdm import tqdm\n",
    "import pandas as pd\n",
    "\n",
    "\n",
    "def get_hindex_info(author_ids, train_data_json):\n",
    "    \"Return the min, the mean and the max of the known hindex of the author in author_ids\"\n",
    "    hindexs = [\n",
    "        train_data_json[str(author_id)]\n",
    "        for author_id in author_ids\n",
    "        if str(author_id) in train_data_json\n",
    "    ]\n",
    "    if len(hindexs) > 0:\n",
    "        return (\n",
    "            min(hindexs),\n",
    "            sum(hindexs) / len(hindexs),\n",
    "            max(hindexs),\n",
    "        )\n",
    "    else:\n",
    "        return 1, 9.841160, 12\n",
    "\n",
    "\n",
    "def get_neighborhood_info(author_ids, data):\n",
    "    G, _, _ = get_graph()\n",
    "    info = {\"author\": author_ids}\n",
    "    info[\"n_neighbors_dist_1\"] = []\n",
    "    # info[\"min_neighbors_dist_1\"] = []\n",
    "    info[\"mean_neighbors_dist_1\"] = []\n",
    "    info[\"max_neighbors_dist_1\"] = []\n",
    "\n",
    "    dict = {}\n",
    "    for i in range(len(data)):\n",
    "        dict[data[\"author\"][i]] = data[\"hindex\"][i]\n",
    "\n",
    "    for author_id in tqdm(author_ids):\n",
    "        neighbors = set()\n",
    "        neighbors.update(list(G.neighbors(author_id)))\n",
    "        hindexs = [\n",
    "            int(dict[neighbor])\n",
    "            for neighbor in neighbors\n",
    "        ]\n",
    "        info[\"n_neighbors_dist_1\"].append(len(neighbors))\n",
    "        # info[\"min_neighbors_dist_1\"].append(min(hindexs))\n",
    "        info[\"mean_neighbors_dist_1\"].append(sum(hindexs) / len(hindexs))\n",
    "        info[\"max_neighbors_dist_1\"].append(max(hindexs))\n",
    "\n",
    "    return pd.DataFrame(info)\n",
    "\n",
    "info = get_neighborhood_info(data[\"author\"], data)"
   ]
  },
  {
   "cell_type": "code",
   "execution_count": 39,
   "metadata": {},
   "outputs": [
    {
     "data": {
      "text/html": [
       "<div>\n",
       "<style scoped>\n",
       "    .dataframe tbody tr th:only-of-type {\n",
       "        vertical-align: middle;\n",
       "    }\n",
       "\n",
       "    .dataframe tbody tr th {\n",
       "        vertical-align: top;\n",
       "    }\n",
       "\n",
       "    .dataframe thead th {\n",
       "        text-align: right;\n",
       "    }\n",
       "</style>\n",
       "<table border=\"1\" class=\"dataframe\">\n",
       "  <thead>\n",
       "    <tr style=\"text-align: right;\">\n",
       "      <th></th>\n",
       "      <th>author</th>\n",
       "      <th>n_neighbors_dist_1</th>\n",
       "      <th>mean_neighbors_dist_1</th>\n",
       "      <th>max_neighbors_dist_1</th>\n",
       "    </tr>\n",
       "  </thead>\n",
       "  <tbody>\n",
       "    <tr>\n",
       "      <th>0</th>\n",
       "      <td>1964267543</td>\n",
       "      <td>5</td>\n",
       "      <td>21.800000</td>\n",
       "      <td>39</td>\n",
       "    </tr>\n",
       "    <tr>\n",
       "      <th>1</th>\n",
       "      <td>2153592714</td>\n",
       "      <td>2</td>\n",
       "      <td>13.500000</td>\n",
       "      <td>20</td>\n",
       "    </tr>\n",
       "    <tr>\n",
       "      <th>2</th>\n",
       "      <td>217158525</td>\n",
       "      <td>2</td>\n",
       "      <td>5.000000</td>\n",
       "      <td>8</td>\n",
       "    </tr>\n",
       "    <tr>\n",
       "      <th>3</th>\n",
       "      <td>2123103677</td>\n",
       "      <td>7</td>\n",
       "      <td>11.571429</td>\n",
       "      <td>54</td>\n",
       "    </tr>\n",
       "    <tr>\n",
       "      <th>4</th>\n",
       "      <td>2067710487</td>\n",
       "      <td>2</td>\n",
       "      <td>8.000000</td>\n",
       "      <td>12</td>\n",
       "    </tr>\n",
       "  </tbody>\n",
       "</table>\n",
       "</div>"
      ],
      "text/plain": [
       "       author  n_neighbors_dist_1  mean_neighbors_dist_1  max_neighbors_dist_1\n",
       "0  1964267543                   5              21.800000                    39\n",
       "1  2153592714                   2              13.500000                    20\n",
       "2   217158525                   2               5.000000                     8\n",
       "3  2123103677                   7              11.571429                    54\n",
       "4  2067710487                   2               8.000000                    12"
      ]
     },
     "execution_count": 39,
     "metadata": {},
     "output_type": "execute_result"
    }
   ],
   "source": [
    "info.head()"
   ]
  },
  {
   "cell_type": "code",
   "execution_count": 40,
   "metadata": {},
   "outputs": [
    {
     "data": {
      "text/plain": [
       "<AxesSubplot:>"
      ]
     },
     "execution_count": 40,
     "metadata": {},
     "output_type": "execute_result"
    },
    {
     "data": {
      "image/png": "[encoded data removed]",
      "text/plain": [
       "<Figure size 1080x720 with 2 Axes>"
      ]
     },
     "metadata": {},
     "output_type": "display_data"
    }
   ],
   "source": [
    "import seaborn as sns\n",
    "\n",
    "info[\"hindex\"] = data[\"hindex\"]\n",
    "corr = info.drop(\"author\", axis=1).corr()\n",
    "\n",
    "# plot the heatmap\n",
    "sns.set(rc={\"figure.figsize\":(15, 10)})\n",
    "sns.heatmap(corr, \n",
    "        xticklabels=corr.columns,\n",
    "        yticklabels=corr.columns,\n",
    "        cmap=\"PiYG\",\n",
    "        annot = True, center=0)"
   ]
  },
  {
   "cell_type": "code",
   "execution_count": 42,
   "metadata": {},
   "outputs": [
    {
     "data": {
      "text/plain": [
       "<AxesSubplot:>"
      ]
     },
     "execution_count": 42,
     "metadata": {},
     "output_type": "execute_result"
    },
    {
     "data": {
      "image/png": "[encoded data removed]",
      "text/plain": [
       "<Figure size 1080x720 with 2 Axes>"
      ]
     },
     "metadata": {},
     "output_type": "display_data"
    }
   ],
   "source": [
    "import seaborn as sns\n",
    "\n",
    "corr = data[info.columns].drop(\"author\", axis=1).corr()\n",
    "\n",
    "# plot the heatmap\n",
    "sns.set(rc={\"figure.figsize\":(15, 10)})\n",
    "sns.heatmap(corr, \n",
    "        xticklabels=corr.columns,\n",
    "        yticklabels=corr.columns,\n",
    "        cmap=\"PiYG\",\n",
    "        annot = True, center=0)"
   ]
  },
  {
   "cell_type": "code",
   "execution_count": 46,
   "metadata": {},
   "outputs": [
    {
     "name": "stdout",
     "output_type": "stream",
     "text": [
      "(130680, 3) (43561, 3)\n"
     ]
    }
   ],
   "source": [
    "from fasttext_utils import TRAIN_LENGTH\n",
    "from sklearn.model_selection import train_test_split\n",
    "# new_data = data.copy()\n",
    "# new_data[['mean_neighbors_dist_1', 'max_neighbors_dist_1']] = info[['mean_neighbors_dist_1', 'max_neighbors_dist_1']]\n",
    "train_np, test_np = train_test_split(info[:TRAIN_LENGTH], random_state=1)\n",
    "X_train = train_np.drop(\n",
    "    [\"author\", \"hindex\"], axis=1\n",
    ").to_numpy()\n",
    "y_train = train_np[\"hindex\"].to_numpy()\n",
    "X_test = test_np.drop(\n",
    "    [\"author\", \"hindex\"], axis=1\n",
    ").to_numpy()\n",
    "y_test = test_np[\"hindex\"].to_numpy()\n",
    "print(X_train.shape, X_test.shape)"
   ]
  },
  {
   "cell_type": "code",
   "execution_count": 47,
   "metadata": {},
   "outputs": [
    {
     "data": {
      "text/plain": [
       "90.80578728987862"
      ]
     },
     "execution_count": 47,
     "metadata": {},
     "output_type": "execute_result"
    }
   ],
   "source": [
    "from catboost import CatBoostRegressor\n",
    "from sklearn.metrics import mean_squared_error\n",
    "model_cat = CatBoostRegressor(verbose=False, num_trees=2000)\n",
    "model_cat.fit(X_train, y_train)\n",
    "mod_preds = model_cat.predict(X_test)\n",
    "mean_squared_error(y_test,mod_preds)"
   ]
  },
  {
   "cell_type": "code",
   "execution_count": 48,
   "metadata": {},
   "outputs": [
    {
     "name": "stdout",
     "output_type": "stream",
     "text": [
      "(130680, 3) (43561, 3)\n"
     ]
    }
   ],
   "source": [
    "from fasttext_utils import TRAIN_LENGTH\n",
    "from sklearn.model_selection import train_test_split\n",
    "train_np, test_np = train_test_split(data[info.columns][:TRAIN_LENGTH], random_state=1)\n",
    "X_train = train_np.drop(\n",
    "    [\"author\", \"hindex\"], axis=1\n",
    ").to_numpy()\n",
    "y_train = train_np[\"hindex\"].to_numpy()\n",
    "X_test = test_np.drop(\n",
    "    [\"author\", \"hindex\"], axis=1\n",
    ").to_numpy()\n",
    "y_test = test_np[\"hindex\"].to_numpy()\n",
    "print(X_train.shape, X_test.shape)"
   ]
  },
  {
   "cell_type": "code",
   "execution_count": 49,
   "metadata": {},
   "outputs": [
    {
     "data": {
      "text/plain": [
       "91.80131902907692"
      ]
     },
     "execution_count": 49,
     "metadata": {},
     "output_type": "execute_result"
    }
   ],
   "source": [
    "from catboost import CatBoostRegressor\n",
    "from sklearn.metrics import mean_squared_error\n",
    "model_cat = CatBoostRegressor(verbose=False, num_trees=2000)\n",
    "model_cat.fit(X_train, y_train)\n",
    "mod_preds = model_cat.predict(X_test)\n",
    "mean_squared_error(y_test,mod_preds)"
   ]
  }
 ],
 "metadata": {
  "interpreter": {
   "hash": "e7370f93d1d0cde622a1f8e1c04877d8463912d04d973331ad4851f04de6915a"
  },
  "kernelspec": {
   "display_name": "Python 3.9.7 64-bit",
   "language": "python",
   "name": "python3"
  },
  "language_info": {
   "codemirror_mode": {
    "name": "ipython",
    "version": 3
   },
   "file_extension": ".py",
   "mimetype": "text/x-python",
   "name": "python",
   "nbconvert_exporter": "python",
   "pygments_lexer": "ipython3",
   "version": "3.9.7"
  },
  "orig_nbformat": 4
 },
 "nbformat": 4,
 "nbformat_minor": 2
}
