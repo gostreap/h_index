{
 "cells": [
  {
   "cell_type": "code",
   "execution_count": 81,
   "metadata": {},
   "outputs": [],
   "source": [
    "from gensim_utils import create_dic_authordid_lineauthor, tokenize_abstracts,latentSemanticIndexing,similarityIndex, get_author_abstract_similarity\n",
    "import pandas as pd\n",
    "import networkx as nx\n",
    "from read_data import get_graph, get_train_data_json\n",
    "import tqdm\n",
    "from preprocess_utils import clean_columns, get_numpy_data\n",
    "from sklearn.model_selection import train_test_split\n",
    "from sklearn.metrics import mean_squared_error\n",
    "import numpy as np"
   ]
  },
  {
   "cell_type": "code",
   "execution_count": 82,
   "metadata": {},
   "outputs": [],
   "source": [
    "def select_columns(data):\n",
    "    columns = [\n",
    "        \"author\",\n",
    "        \"hindex\",\n",
    "        \"nb_paper\",\n",
    "        # \"core_number\",\n",
    "        # \"eigenvector_centrality\",\n",
    "        # \"n_coauthors_with_hindex\",\n",
    "        \"pagerank\",\n",
    "        \"authority\",\n",
    "        \"clustering_coef\",\n",
    "        \"n_neighbors_dist_1\",\n",
    "        # \"min_neighbors_dist_1\",\n",
    "        \"mean_neighbors_dist_1\",\n",
    "        \"max_neighbors_dist_1\",\n",
    "        # \"max-min_neighbors_dist_1\",\n",
    "        # \"n_neighbors_dist_2\",\n",
    "        # \"min_neighbors_dist_2\",\n",
    "        # \"mean_neighbors_dist_2\",\n",
    "        # \"max_neighbors_dist_2\",\n",
    "    ]\n",
    "    columns += [column for column in data if column.startswith(\"vector_coord_\")]\n",
    "    columns += [column for column in data if column.startswith(\"lda_cat_\")]\n",
    "\n",
    "    return data[columns]"
   ]
  },
  {
   "cell_type": "code",
   "execution_count": 83,
   "metadata": {},
   "outputs": [],
   "source": [
    "def get_numpy_data_1(n):\n",
    "    train = pd.read_csv(\"../tmp/processed_data.csv\")[:n]\n",
    "    train = train.sample(n=n, random_state=1)\n",
    "    text = train[\"author\"]\n",
    "    train, test = train_test_split(train, random_state =1)\n",
    "    train = select_columns(train)\n",
    "    test = select_columns(test)\n",
    "    X_train = train.drop(\n",
    "        [\"author\", \"hindex\"], axis=1\n",
    "    ).to_numpy()\n",
    "    y_train = train[\"hindex\"].to_numpy()\n",
    "    X_test = test.drop(\n",
    "        [\"author\", \"hindex\"], axis=1\n",
    "    ).to_numpy()\n",
    "    y_test = test[\"hindex\"].to_numpy()\n",
    "    return X_train, y_train, X_test, y_test,text"
   ]
  },
  {
   "cell_type": "code",
   "execution_count": 84,
   "metadata": {},
   "outputs": [
    {
     "name": "stderr",
     "output_type": "stream",
     "text": [
      "/var/folders/57/vt366_td3_37y7bqh4rk7nqr0000gn/T/ipykernel_2440/3711965620.py:1: DtypeWarning: Columns (10) have mixed types.Specify dtype option on import or set low_memory=False.\n",
      "  X_train, y_train, X_test, y_test, column = get_numpy_data_1(n=10000)\n"
     ]
    }
   ],
   "source": [
    "X_train, y_train, X_test, y_test, column = get_numpy_data_1(n=10000)"
   ]
  },
  {
   "cell_type": "code",
   "execution_count": 85,
   "metadata": {},
   "outputs": [
    {
     "name": "stderr",
     "output_type": "stream",
     "text": [
      "/opt/homebrew/Caskroom/miniforge/base/envs/X/lib/python3.9/site-packages/lightgbm/engine.py:177: UserWarning: Found `num_iterations` in params. Will use it instead of argument\n",
      "  _log_warning(f\"Found `{alias}` in params. Will use it instead of argument\")\n"
     ]
    },
    {
     "name": "stdout",
     "output_type": "stream",
     "text": [
      "[LightGBM] [Warning] Auto-choosing col-wise multi-threading, the overhead of testing was 0.000430 seconds.\n",
      "You can set `force_col_wise=true` to remove the overhead.\n",
      "[LightGBM] [Info] Total Bins 1731\n",
      "[LightGBM] [Info] Number of data points in the train set: 7500, number of used features: 9\n",
      "[LightGBM] [Info] Start training from score 11.701733\n"
     ]
    },
    {
     "data": {
      "text/plain": [
       "57.93060829667537"
      ]
     },
     "execution_count": 85,
     "metadata": {},
     "output_type": "execute_result"
    }
   ],
   "source": [
    "import lightgbm as lgb\n",
    "d_train = lgb.Dataset(X_train, label = y_train)\n",
    "params = {}\n",
    "params['learning_rate'] = 0.2\n",
    "params['num_iterations'] = 100\n",
    "params['boosting_type'] = 'dart'\n",
    "params['objective'] = 'regression'\n",
    "params['metric'] = 'rmse'\n",
    "params['sub_feature'] = 0.6\n",
    "params['num_leaves'] = 50\n",
    "params['min_data'] = 60\n",
    "params['max_depth'] = 35\n",
    "clf = lgb.train(params, d_train, 100)\n",
    "y_pred=clf.predict(X_test)\n",
    "mean_squared_error(y_test,y_pred)"
   ]
  },
  {
   "cell_type": "code",
   "execution_count": 86,
   "metadata": {},
   "outputs": [
    {
     "ename": "TypeError",
     "evalue": "tokenize_abstracts() takes 0 positional arguments but 1 was given",
     "output_type": "error",
     "traceback": [
      "\u001b[0;31m---------------------------------------------------------------------------\u001b[0m",
      "\u001b[0;31mTypeError\u001b[0m                                 Traceback (most recent call last)",
      "\u001b[0;32m/var/folders/57/vt366_td3_37y7bqh4rk7nqr0000gn/T/ipykernel_2440/423264925.py\u001b[0m in \u001b[0;36m<module>\u001b[0;34m\u001b[0m\n\u001b[0;32m----> 1\u001b[0;31m \u001b[0mdic\u001b[0m\u001b[0;34m,\u001b[0m \u001b[0mcorp\u001b[0m \u001b[0;34m=\u001b[0m \u001b[0mtokenize_abstracts\u001b[0m\u001b[0;34m(\u001b[0m\u001b[0mcolumn\u001b[0m\u001b[0;34m)\u001b[0m\u001b[0;34m\u001b[0m\u001b[0;34m\u001b[0m\u001b[0m\n\u001b[0m\u001b[1;32m      2\u001b[0m \u001b[0;34m\u001b[0m\u001b[0m\n\u001b[1;32m      3\u001b[0m \u001b[0mnum_topics\u001b[0m \u001b[0;34m=\u001b[0m \u001b[0;36m250\u001b[0m\u001b[0;34m\u001b[0m\u001b[0;34m\u001b[0m\u001b[0m\n\u001b[1;32m      4\u001b[0m \u001b[0mlsi\u001b[0m \u001b[0;34m=\u001b[0m \u001b[0mlatentSemanticIndexing\u001b[0m\u001b[0;34m(\u001b[0m\u001b[0mdic\u001b[0m\u001b[0;34m,\u001b[0m\u001b[0mcorp\u001b[0m\u001b[0;34m,\u001b[0m\u001b[0mnum_topics\u001b[0m\u001b[0;34m)\u001b[0m\u001b[0;34m\u001b[0m\u001b[0;34m\u001b[0m\u001b[0m\n\u001b[1;32m      5\u001b[0m \u001b[0;34m\u001b[0m\u001b[0m\n",
      "\u001b[0;31mTypeError\u001b[0m: tokenize_abstracts() takes 0 positional arguments but 1 was given"
     ]
    }
   ],
   "source": [
    "dic, corp = tokenize_abstracts(column)\n",
    "\n",
    "num_topics = 250\n",
    "lsi = latentSemanticIndexing(dic,corp,num_topics)\n",
    "\n",
    "index = similarityIndex(lsi,corp,num_topics)\n",
    "\n",
    "data = get_author_abstract_similarity(50)"
   ]
  },
  {
   "cell_type": "code",
   "execution_count": null,
   "metadata": {},
   "outputs": [],
   "source": [
    "graphArray = pd.read_csv(\"../tmp/similGraph_full.csv\").to_numpy()\n"
   ]
  },
  {
   "cell_type": "code",
   "execution_count": null,
   "metadata": {},
   "outputs": [],
   "source": [
    "G = nx.Graph()\n",
    "for i in range(len(graphArray)):\n",
    "    for j in range(1,(len(graphArray[0])),2):\n",
    "        G.add_edge(graphArray[i][0],graphArray[i][j],weight = graphArray[i][j+1])"
   ]
  },
  {
   "cell_type": "code",
   "execution_count": null,
   "metadata": {},
   "outputs": [],
   "source": [
    "def get_core_number(author_ids):\n",
    "    core_number = nx.core_number(G)\n",
    "    author_core_numbers = [core_number[author_id] for author_id in author_ids]\n",
    "    df = pd.DataFrame({\"author\": author_ids, \"new_core_number\": author_core_numbers})\n",
    "    return df\n",
    "\n",
    "\n",
    "def get_page_rank(author_ids):\n",
    "    core_number = nx.pagerank(G)\n",
    "    author_pagerank = [core_number[author_id] for author_id in author_ids]\n",
    "    df = pd.DataFrame({\"author\": author_ids, \"new_pagerank\": author_pagerank})\n",
    "    return df\n",
    "\n",
    "\n",
    "def get_authority(author_ids):\n",
    "    authority, _ = nx.hits(G)\n",
    "    author_authority = [authority[author_id] for author_id in author_ids]\n",
    "    df = pd.DataFrame({\"author\": author_ids, \"new_authority\": author_authority})\n",
    "    return df\n",
    "\n",
    "\n",
    "def get_clustering_coef(author_ids):\n",
    "    clustering_coefs = nx.clustering(G, nodes=author_ids)\n",
    "    author_clusering_coef = [clustering_coefs[author_id] for author_id in author_ids]\n",
    "    df = pd.DataFrame({\"author\": author_ids, \"new_clustering_coef\": author_clusering_coef})\n",
    "    return df\n",
    "\n",
    "\n",
    "def get_eigenvector_centrality(author_ids):\n",
    "    eigenvector_centralities = nx.algorithms.centrality.eigenvector_centrality(G)\n",
    "    author_eigenvector_centrality = [\n",
    "        eigenvector_centralities[author_id] for author_id in author_ids\n",
    "    ]\n",
    "    df = pd.DataFrame(\n",
    "        {\"author\": author_ids, \"new_eigenvector_centrality\": author_eigenvector_centrality}\n",
    "    )\n",
    "    return df\n",
    "    \n",
    "def add_features(data, new_features):\n",
    "    return data.merge(new_features, left_on=\"author\", right_on=\"author\", how=\"inner\")"
   ]
  },
  {
   "cell_type": "code",
   "execution_count": null,
   "metadata": {},
   "outputs": [],
   "source": [
    "def store_full_dataset_with_features(neighborhood_level=2):\n",
    "\n",
    "    data = pd.read_csv(\"../tmp/data10000.csv\")\n",
    "\n",
    "    data = clean_columns(data, neighborhood_level=neighborhood_level)\n",
    "\n",
    "    print(\"Starting data columns :\", list(data.columns))\n",
    "\n",
    "    if not \"new_core_number\" in data.columns:\n",
    "        print(\"Add core number to data\")\n",
    "        data = add_features(data, get_core_number(data[\"author\"]))\n",
    "\n",
    "    if not \"new_pagerank\" in data.columns:\n",
    "        print(\"Add pagerank to data\")\n",
    "        data = add_features(data, get_page_rank(data[\"author\"]))\n",
    "\n",
    "    if not \"new_authority\" in data.columns:\n",
    "        print(\"Add authority to data\")\n",
    "        data = add_features(data, get_authority(data[\"author\"]))\n",
    "\n",
    "    if not \"new_clustering_coef\" in data.columns:\n",
    "        print(\"Add clustering coef to data\")\n",
    "        data = add_features(data, get_clustering_coef(data[\"author\"]))\n",
    "\n",
    "    if not \"new_eigenvector_centrality\" in data.columns:\n",
    "        print(\"Add eigenvector centrality to data\")\n",
    "        data = add_features(data, get_eigenvector_centrality(data[\"author\"]))\n",
    "\n",
    "    print(\"Ending data columns :\", list(data.columns))\n",
    "\n",
    "    data.to_csv(\"../tmp/dataGensim.csv\", index=None)\n",
    "    return data"
   ]
  },
  {
   "cell_type": "code",
   "execution_count": null,
   "metadata": {},
   "outputs": [],
   "source": [
    "def select_columns(data):\n",
    "    columns = [\n",
    "        \"author\",\n",
    "        \"hindex\",\n",
    "        \"nb_paper\",\n",
    "        # \"core_number\",\n",
    "        # \"eigenvector_centrality\",\n",
    "        # \"n_coauthors_with_hindex\",\n",
    "        \"new_pagerank\",\n",
    "        \"new_authority\",\n",
    "        \"new_clustering_coef\",\n",
    "        \"n_neighbors_dist_1\",\n",
    "        # \"min_neighbors_dist_1\",\n",
    "        \"mean_neighbors_dist_1\",\n",
    "        \"max_neighbors_dist_1\",\n",
    "        # \"max-min_neighbors_dist_1\",\n",
    "        # \"n_neighbors_dist_2\",\n",
    "        # \"min_neighbors_dist_2\",\n",
    "        # \"mean_neighbors_dist_2\",\n",
    "        # \"max_neighbors_dist_2\",\n",
    "    ]\n",
    "    columns += [column for column in data if column.startswith(\"vector_coord_\")]\n",
    "    columns += [column for column in data if column.startswith(\"lda_cat_\")]\n",
    "\n",
    "    return data[columns]\n"
   ]
  },
  {
   "cell_type": "code",
   "execution_count": null,
   "metadata": {},
   "outputs": [],
   "source": [
    "def get_numpy_data_2(n=10000):\n",
    "    train = pd.read_csv(\"../tmp/dataGensim.csv\")[:10000]\n",
    "    train = train.sample(n=n, random_state=1)\n",
    "    train, test = train_test_split(train, random_state =1)\n",
    "    train = select_columns(train)\n",
    "    test = select_columns(test)\n",
    "    X_train = train.drop(\n",
    "        [\"author\", \"hindex\"], axis=1\n",
    "    ).to_numpy()\n",
    "    y_train = train[\"hindex\"].to_numpy()\n",
    "    X_test = test.drop(\n",
    "        [\"author\", \"hindex\"], axis=1\n",
    "    ).to_numpy()\n",
    "    y_test = test[\"hindex\"].to_numpy()\n",
    "    return X_train, y_train, X_test, y_test"
   ]
  },
  {
   "cell_type": "code",
   "execution_count": null,
   "metadata": {},
   "outputs": [],
   "source": [
    "d = store_full_dataset_with_features()\n",
    "X_train, y_train, X_test, y_test = get_numpy_data_2(n=10000)"
   ]
  },
  {
   "cell_type": "code",
   "execution_count": null,
   "metadata": {},
   "outputs": [],
   "source": [
    "import lightgbm as lgb\n",
    "d_train = lgb.Dataset(X_train, label = y_train)\n",
    "params = {}\n",
    "params['learning_rate'] = 0.16\n",
    "params['num_iterations'] = 100\n",
    "params['boosting_type'] = 'dart'\n",
    "params['objective'] = 'regression'\n",
    "params['metric'] = 'rmse'\n",
    "params['sub_feature'] = 0.6\n",
    "params['num_leaves'] = 50\n",
    "params['min_data'] = 60\n",
    "params['max_depth'] = 35\n",
    "clf = lgb.train(params, d_train, 100)\n",
    "y_pred=clf.predict(X_test)\n",
    "mean_squared_error(y_test,y_pred)"
   ]
  },
  {
   "cell_type": "code",
   "execution_count": null,
   "metadata": {},
   "outputs": [],
   "source": []
  }
 ],
 "metadata": {
  "interpreter": {
   "hash": "cdf7b00ddbd614d21cac29b9426dbd01e82151f124ccbb4ce3c531d165211a8f"
  },
  "kernelspec": {
   "display_name": "Python 3.9.7 64-bit ('X': conda)",
   "language": "python",
   "name": "python3"
  },
  "language_info": {
   "codemirror_mode": {
    "name": "ipython",
    "version": 3
   },
   "file_extension": ".py",
   "mimetype": "text/x-python",
   "name": "python",
   "nbconvert_exporter": "python",
   "pygments_lexer": "ipython3",
   "version": "3.9.7"
  },
  "orig_nbformat": 4
 },
 "nbformat": 4,
 "nbformat_minor": 2
}
