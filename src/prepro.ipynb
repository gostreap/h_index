{
 "cells": [
  {
   "cell_type": "markdown",
   "metadata": {},
   "source": [
    "### Analyse et comprehension des fichiers"
   ]
  },
  {
   "cell_type": "code",
   "execution_count": 2,
   "metadata": {},
   "outputs": [],
   "source": [
    "import matplotlib.pyplot as plt\n",
    "from read_data import *\n",
    "from utils import *\n",
    "import csv\n",
    "from gensim.utils import simple_preprocess\n",
    "from sklearn.model_selection import train_test_split\n",
    "import fasttext"
   ]
  },
  {
   "cell_type": "code",
   "execution_count": 3,
   "metadata": {},
   "outputs": [],
   "source": [
    "def df_to_txt(data, file_name):\n",
    "    data[[\"hindex_lab\", \"text\"]].to_csv(\n",
    "        file_name,\n",
    "        index=False,\n",
    "        sep=\" \",\n",
    "        header=None,\n",
    "        quoting=csv.QUOTE_NONE,\n",
    "        quotechar=\"\",\n",
    "        escapechar=\" \",\n",
    "    )\n",
    "\n",
    "\n",
    "def getText(dic):\n",
    "    temp = [\"\"] * dic[\"IndexLength\"]\n",
    "    for word, pos in dic[\"InvertedIndex\"].items():\n",
    "        for i in pos:\n",
    "            temp[i] = word\n",
    "    return \" \".join((filter((None).__ne__, temp)))\n",
    "\n",
    "\n",
    "def get_abstracts_by_dic(dic):\n",
    "    ids = dic.keys()\n",
    "    abstracts_file = open(\"../data/abstracts.txt\", \"r\", encoding=\"utf-8\")\n",
    "    abstracts = {}\n",
    "    for i, line in enumerate(abstracts_file):\n",
    "        id, data = line.split(\"----\", 1)\n",
    "        if int(id) in ids:\n",
    "            abstracts[dic[int(id)]] = (\n",
    "                [json.loads(data)]\n",
    "                if abstracts.get(dic[int(id)]) is None\n",
    "                else [json.loads(data)] + abstracts.get(dic[int(id)])\n",
    "            )\n",
    "    return abstracts\n",
    "\n",
    "\n",
    "def get_authors_papers_id_by_ids(ids):\n",
    "    author_papers_file = open(\"../data/author_papers.txt\", \"r\", encoding=\"utf-8\")\n",
    "    author_papers = {}\n",
    "    for line in author_papers_file:\n",
    "        author_id, papers_string = line.split(\":\")\n",
    "        if int(author_id) in ids:\n",
    "            papers_ids = papers_string.split(\"-\")\n",
    "            for paper_id in papers_ids:\n",
    "                author_papers[int(paper_id)] = int(author_id)\n",
    "    return author_papers\n",
    "\n",
    "\n",
    "def preprocessing_for_fastText(n_sample, data):\n",
    "    data1 = data.sample(n=n_sample, random_state=1)\n",
    "    ids = data1[\"author\"].to_list()\n",
    "    paper_id_dic = get_authors_papers_id_by_ids(ids)\n",
    "    abstract = get_abstracts_by_dic(paper_id_dic)\n",
    "    abstract_text = {}\n",
    "    for id in abstract.keys():\n",
    "        abstract_text[id] = \" \".join(\n",
    "            simple_preprocess(\n",
    "                \" \".join([\" \".join(r[\"InvertedIndex\"]) for r in abstract[id]])\n",
    "            )\n",
    "        )\n",
    "    data1[\"hindex_lab\"] = data1[\"hindex\"].apply(lambda x: \"__label__\" + str(x))\n",
    "    df_abstract_text = pd.DataFrame.from_dict(\n",
    "        abstract_text, orient=\"index\", columns=[\"text\"]\n",
    "    )\n",
    "    df_abstract_text[\"author\"] = df_abstract_text.index\n",
    "    df_abstract_text = df_abstract_text.reset_index(drop=True)\n",
    "    df_data = data1.merge(\n",
    "        df_abstract_text, left_on=\"author\", right_on=\"author\", how=\"inner\"\n",
    "    )\n",
    "    return df_data\n",
    "\n",
    "\n",
    "def small_class(data, k):\n",
    "    maxi = data[\"hindex\"].max()\n",
    "    data[\"modindx\"] = data[\"hindex\"].apply(lambda x: x if x < k else k)\n",
    "    data[\"hindex_lab\"] = data[\"modindx\"].apply(lambda x: \"__label__\" + str(x))\n",
    "    return data\n",
    "\n",
    "\n",
    "def preprocessing2_for_fastText(n_sample, data):\n",
    "    data1 = data.sample(n=n_sample, random_state=1)\n",
    "    ids = data1[\"author\"].to_list()\n",
    "    paper_id_dic = get_authors_papers_id_by_ids(ids)\n",
    "    abstract = get_abstracts_by_dic(paper_id_dic)\n",
    "    abstract_text = {}\n",
    "    for id in abstract.keys():\n",
    "        abstract_text[id] = [\n",
    "            \" \".join(simple_preprocess(\" \".join([getText(r) for r in abstract[id]]))),\n",
    "            len(abstract[id]),\n",
    "        ]\n",
    "    # data1['hindex_lab'] = data1['modindx'].apply(lambda x:'__label__'+str(x))\n",
    "    df_abstract_text = pd.DataFrame.from_dict(\n",
    "        abstract_text, orient=\"index\", columns=[\"text\", \"nb_paper\"]\n",
    "    )\n",
    "    df_abstract_text[\"author\"] = df_abstract_text.index\n",
    "    df_abstract_text = df_abstract_text.reset_index(drop=True)\n",
    "    df_data = data1.merge(\n",
    "        df_abstract_text, left_on=\"author\", right_on=\"author\", how=\"inner\"\n",
    "    )\n",
    "    return df_data\n",
    "\n",
    "\n",
    "def general_comp(model, test):\n",
    "    test_pred = model.predict(test[\"text\"].to_list())\n",
    "    test_pred_lab = [t[0] for t in test_pred[0]]\n",
    "    test_pred_prob = [t[0] for t in test_pred[1]]\n",
    "    df_test_pred = pd.DataFrame(\n",
    "        {\"test_pred_lab\": test_pred_lab, \"test_pred_prob\": test_pred_prob}\n",
    "    )\n",
    "    test = test.reset_index(drop=True)\n",
    "    test_comp = pd.concat([df_test_pred, test], axis=1)\n",
    "    test_err = test_comp[test_comp[\"hindex_lab\"] != test_comp[\"test_pred_lab\"]]\n",
    "    return test_err\n"
   ]
  },
  {
   "cell_type": "markdown",
   "metadata": {},
   "source": [
    "**distriubution des données**"
   ]
  },
  {
   "cell_type": "code",
   "execution_count": 4,
   "metadata": {},
   "outputs": [],
   "source": [
    "train,n_train = get_train_data()\n",
    "test,n_test = get_test_data()"
   ]
  },
  {
   "cell_type": "code",
   "execution_count": 5,
   "metadata": {},
   "outputs": [
    {
     "data": {
      "image/png": "[encoded data removed]",
      "text/plain": [
       "<Figure size 720x360 with 1 Axes>"
      ]
     },
     "metadata": {
      "needs_background": "light"
     },
     "output_type": "display_data"
    }
   ],
   "source": [
    "plt.figure(figsize=(10,5))\n",
    "plt.subplot(1,2,1).hist(train['hindex'],bins=187);"
   ]
  },
  {
   "cell_type": "markdown",
   "metadata": {},
   "source": [
    "**selection of sub-dataset with same distribution than the original**"
   ]
  },
  {
   "cell_type": "code",
   "execution_count": 7,
   "metadata": {},
   "outputs": [
    {
     "data": {
      "text/html": [
       "<div>\n",
       "<style scoped>\n",
       "    .dataframe tbody tr th:only-of-type {\n",
       "        vertical-align: middle;\n",
       "    }\n",
       "\n",
       "    .dataframe tbody tr th {\n",
       "        vertical-align: top;\n",
       "    }\n",
       "\n",
       "    .dataframe thead th {\n",
       "        text-align: right;\n",
       "    }\n",
       "</style>\n",
       "<table border=\"1\" class=\"dataframe\">\n",
       "  <thead>\n",
       "    <tr style=\"text-align: right;\">\n",
       "      <th></th>\n",
       "      <th>author</th>\n",
       "      <th>hindex</th>\n",
       "      <th>text</th>\n",
       "      <th>nb_paper</th>\n",
       "      <th>modindx</th>\n",
       "      <th>hindex_lab</th>\n",
       "    </tr>\n",
       "  </thead>\n",
       "  <tbody>\n",
       "    <tr>\n",
       "      <th>0</th>\n",
       "      <td>2192797973</td>\n",
       "      <td>15.0</td>\n",
       "      <td>we present newly collected data set of gold st...</td>\n",
       "      <td>5</td>\n",
       "      <td>6.0</td>\n",
       "      <td>__label__6.0</td>\n",
       "    </tr>\n",
       "    <tr>\n",
       "      <th>1</th>\n",
       "      <td>2568812976</td>\n",
       "      <td>4.0</td>\n",
       "      <td>problem to be solved to provide tv system for ...</td>\n",
       "      <td>5</td>\n",
       "      <td>4.0</td>\n",
       "      <td>__label__4.0</td>\n",
       "    </tr>\n",
       "    <tr>\n",
       "      <th>2</th>\n",
       "      <td>2159374572</td>\n",
       "      <td>24.0</td>\n",
       "      <td>this paper presents novel engine coined topx f...</td>\n",
       "      <td>5</td>\n",
       "      <td>6.0</td>\n",
       "      <td>__label__6.0</td>\n",
       "    </tr>\n",
       "    <tr>\n",
       "      <th>3</th>\n",
       "      <td>2745744053</td>\n",
       "      <td>22.0</td>\n",
       "      <td>this paper describes coherent optical orthogon...</td>\n",
       "      <td>5</td>\n",
       "      <td>6.0</td>\n",
       "      <td>__label__6.0</td>\n",
       "    </tr>\n",
       "    <tr>\n",
       "      <th>4</th>\n",
       "      <td>2127692187</td>\n",
       "      <td>18.0</td>\n",
       "      <td>method for real time detection of denial of se...</td>\n",
       "      <td>4</td>\n",
       "      <td>6.0</td>\n",
       "      <td>__label__6.0</td>\n",
       "    </tr>\n",
       "  </tbody>\n",
       "</table>\n",
       "</div>"
      ],
      "text/plain": [
       "       author  hindex                                               text  \\\n",
       "0  2192797973    15.0  we present newly collected data set of gold st...   \n",
       "1  2568812976     4.0  problem to be solved to provide tv system for ...   \n",
       "2  2159374572    24.0  this paper presents novel engine coined topx f...   \n",
       "3  2745744053    22.0  this paper describes coherent optical orthogon...   \n",
       "4  2127692187    18.0  method for real time detection of denial of se...   \n",
       "\n",
       "   nb_paper  modindx    hindex_lab  \n",
       "0         5      6.0  __label__6.0  \n",
       "1         5      4.0  __label__4.0  \n",
       "2         5      6.0  __label__6.0  \n",
       "3         5      6.0  __label__6.0  \n",
       "4         4      6.0  __label__6.0  "
      ]
     },
     "execution_count": 7,
     "metadata": {},
     "output_type": "execute_result"
    }
   ],
   "source": [
    "data_path = \"../tmp/data_10000.csv\"\n",
    "data = preprocessing2_for_fastText(10000,train)\n",
    "data.to_csv(data_path,index=None)\n",
    "data2 = pd.read_csv(data_path)\n",
    "data2 = small_class(data2, 6)\n",
    "data2.head()"
   ]
  },
  {
   "cell_type": "code",
   "execution_count": 8,
   "metadata": {},
   "outputs": [
    {
     "data": {
      "text/html": [
       "<div>\n",
       "<style scoped>\n",
       "    .dataframe tbody tr th:only-of-type {\n",
       "        vertical-align: middle;\n",
       "    }\n",
       "\n",
       "    .dataframe tbody tr th {\n",
       "        vertical-align: top;\n",
       "    }\n",
       "\n",
       "    .dataframe thead th {\n",
       "        text-align: right;\n",
       "    }\n",
       "</style>\n",
       "<table border=\"1\" class=\"dataframe\">\n",
       "  <thead>\n",
       "    <tr style=\"text-align: right;\">\n",
       "      <th></th>\n",
       "      <th>author</th>\n",
       "      <th>hindex</th>\n",
       "      <th>nb_paper</th>\n",
       "      <th>modindx</th>\n",
       "    </tr>\n",
       "  </thead>\n",
       "  <tbody>\n",
       "    <tr>\n",
       "      <th>count</th>\n",
       "      <td>9.796000e+03</td>\n",
       "      <td>9796.000000</td>\n",
       "      <td>9796.000000</td>\n",
       "      <td>9796.000000</td>\n",
       "    </tr>\n",
       "    <tr>\n",
       "      <th>mean</th>\n",
       "      <td>1.993336e+09</td>\n",
       "      <td>9.841160</td>\n",
       "      <td>3.977338</td>\n",
       "      <td>4.386178</td>\n",
       "    </tr>\n",
       "    <tr>\n",
       "      <th>std</th>\n",
       "      <td>6.393600e+08</td>\n",
       "      <td>12.055575</td>\n",
       "      <td>1.323559</td>\n",
       "      <td>1.890577</td>\n",
       "    </tr>\n",
       "    <tr>\n",
       "      <th>min</th>\n",
       "      <td>1.139156e+07</td>\n",
       "      <td>1.000000</td>\n",
       "      <td>1.000000</td>\n",
       "      <td>1.000000</td>\n",
       "    </tr>\n",
       "    <tr>\n",
       "      <th>25%</th>\n",
       "      <td>2.019859e+09</td>\n",
       "      <td>3.000000</td>\n",
       "      <td>3.000000</td>\n",
       "      <td>3.000000</td>\n",
       "    </tr>\n",
       "    <tr>\n",
       "      <th>50%</th>\n",
       "      <td>2.133884e+09</td>\n",
       "      <td>6.000000</td>\n",
       "      <td>5.000000</td>\n",
       "      <td>6.000000</td>\n",
       "    </tr>\n",
       "    <tr>\n",
       "      <th>75%</th>\n",
       "      <td>2.286076e+09</td>\n",
       "      <td>12.000000</td>\n",
       "      <td>5.000000</td>\n",
       "      <td>6.000000</td>\n",
       "    </tr>\n",
       "    <tr>\n",
       "      <th>max</th>\n",
       "      <td>2.908001e+09</td>\n",
       "      <td>163.000000</td>\n",
       "      <td>5.000000</td>\n",
       "      <td>6.000000</td>\n",
       "    </tr>\n",
       "  </tbody>\n",
       "</table>\n",
       "</div>"
      ],
      "text/plain": [
       "             author       hindex     nb_paper      modindx\n",
       "count  9.796000e+03  9796.000000  9796.000000  9796.000000\n",
       "mean   1.993336e+09     9.841160     3.977338     4.386178\n",
       "std    6.393600e+08    12.055575     1.323559     1.890577\n",
       "min    1.139156e+07     1.000000     1.000000     1.000000\n",
       "25%    2.019859e+09     3.000000     3.000000     3.000000\n",
       "50%    2.133884e+09     6.000000     5.000000     6.000000\n",
       "75%    2.286076e+09    12.000000     5.000000     6.000000\n",
       "max    2.908001e+09   163.000000     5.000000     6.000000"
      ]
     },
     "execution_count": 8,
     "metadata": {},
     "output_type": "execute_result"
    }
   ],
   "source": [
    "data2.describe()"
   ]
  },
  {
   "cell_type": "code",
   "execution_count": 9,
   "metadata": {},
   "outputs": [
    {
     "data": {
      "image/png": "[encoded data removed]",
      "text/plain": [
       "<Figure size 720x360 with 2 Axes>"
      ]
     },
     "metadata": {
      "needs_background": "light"
     },
     "output_type": "display_data"
    }
   ],
   "source": [
    "train1,test1 = train_test_split(data2,random_state=1)\n",
    "plt.figure(figsize=(10,5))\n",
    "plt.subplot(1,2,1).hist(train1['hindex_lab'])\n",
    "plt.subplot(1,2,2).hist(test1['hindex_lab']);"
   ]
  },
  {
   "cell_type": "code",
   "execution_count": 10,
   "metadata": {},
   "outputs": [],
   "source": [
    "train_path = \"../tmp/train.txt\"\n",
    "test_path = \"../tmp/test.txt\"\n",
    "\n",
    "df_to_txt(train1,train_path)\n",
    "df_to_txt(test1,test_path)"
   ]
  },
  {
   "cell_type": "markdown",
   "metadata": {},
   "source": [
    "### Utilisation de Fast text"
   ]
  },
  {
   "cell_type": "code",
   "execution_count": 11,
   "metadata": {},
   "outputs": [],
   "source": [
    "model0 = fasttext.train_supervised(train_path)"
   ]
  },
  {
   "cell_type": "code",
   "execution_count": 13,
   "metadata": {},
   "outputs": [],
   "source": [
    "train_duration = 60 # in seconds\n",
    "model1 = fasttext.train_supervised(train_path, autotuneValidationFile=test_path, autotuneDuration=train_duration)"
   ]
  },
  {
   "cell_type": "code",
   "execution_count": 12,
   "metadata": {},
   "outputs": [
    {
     "data": {
      "text/plain": [
       "(2449, 0.504287464271131, 0.504287464271131)"
      ]
     },
     "execution_count": 12,
     "metadata": {},
     "output_type": "execute_result"
    }
   ],
   "source": [
    "model0.test(test_path)"
   ]
  },
  {
   "cell_type": "code",
   "execution_count": 14,
   "metadata": {},
   "outputs": [
    {
     "data": {
      "text/plain": [
       "(2449, 0.5630869742752144, 0.5630869742752144)"
      ]
     },
     "execution_count": 14,
     "metadata": {},
     "output_type": "execute_result"
    }
   ],
   "source": [
    "model1.test(test_path)"
   ]
  },
  {
   "cell_type": "code",
   "execution_count": 15,
   "metadata": {},
   "outputs": [
    {
     "data": {
      "text/plain": [
       "(2449, 0.5630869742752144, 0.5630869742752144)"
      ]
     },
     "execution_count": 15,
     "metadata": {},
     "output_type": "execute_result"
    }
   ],
   "source": [
    "model1.test(test_path)"
   ]
  },
  {
   "cell_type": "code",
   "execution_count": 16,
   "metadata": {},
   "outputs": [
    {
     "data": {
      "text/html": [
       "<div>\n",
       "<style scoped>\n",
       "    .dataframe tbody tr th:only-of-type {\n",
       "        vertical-align: middle;\n",
       "    }\n",
       "\n",
       "    .dataframe tbody tr th {\n",
       "        vertical-align: top;\n",
       "    }\n",
       "\n",
       "    .dataframe thead th {\n",
       "        text-align: right;\n",
       "    }\n",
       "</style>\n",
       "<table border=\"1\" class=\"dataframe\">\n",
       "  <thead>\n",
       "    <tr style=\"text-align: right;\">\n",
       "      <th></th>\n",
       "      <th>paramètre</th>\n",
       "      <th>model0</th>\n",
       "      <th>model1</th>\n",
       "    </tr>\n",
       "  </thead>\n",
       "  <tbody>\n",
       "    <tr>\n",
       "      <th>0</th>\n",
       "      <td>hidden layer</td>\n",
       "      <td>100</td>\n",
       "      <td>143</td>\n",
       "    </tr>\n",
       "    <tr>\n",
       "      <th>1</th>\n",
       "      <td>learning rate</td>\n",
       "      <td>0.1</td>\n",
       "      <td>1.58506</td>\n",
       "    </tr>\n",
       "    <tr>\n",
       "      <th>2</th>\n",
       "      <td>epoch</td>\n",
       "      <td>5</td>\n",
       "      <td>3</td>\n",
       "    </tr>\n",
       "    <tr>\n",
       "      <th>3</th>\n",
       "      <td>loss</td>\n",
       "      <td>loss_name.softmax</td>\n",
       "      <td>loss_name.softmax</td>\n",
       "    </tr>\n",
       "  </tbody>\n",
       "</table>\n",
       "</div>"
      ],
      "text/plain": [
       "       paramètre             model0             model1\n",
       "0   hidden layer                100                143\n",
       "1  learning rate                0.1            1.58506\n",
       "2          epoch                  5                  3\n",
       "3           loss  loss_name.softmax  loss_name.softmax"
      ]
     },
     "execution_count": 16,
     "metadata": {},
     "output_type": "execute_result"
    }
   ],
   "source": [
    "comp = pd.DataFrame({'paramètre':['hidden layer','learning rate','epoch','loss'],'model0':[model0.dim,model0.lr,model0.epoch,model0.loss],'model1':[model1.dim,model1.lr,model1.epoch,model1.loss]})\n",
    "comp"
   ]
  },
  {
   "cell_type": "code",
   "execution_count": 17,
   "metadata": {},
   "outputs": [
    {
     "data": {
      "text/html": [
       "<div>\n",
       "<style scoped>\n",
       "    .dataframe tbody tr th:only-of-type {\n",
       "        vertical-align: middle;\n",
       "    }\n",
       "\n",
       "    .dataframe tbody tr th {\n",
       "        vertical-align: top;\n",
       "    }\n",
       "\n",
       "    .dataframe thead th {\n",
       "        text-align: right;\n",
       "    }\n",
       "</style>\n",
       "<table border=\"1\" class=\"dataframe\">\n",
       "  <thead>\n",
       "    <tr style=\"text-align: right;\">\n",
       "      <th></th>\n",
       "      <th>test_pred_lab</th>\n",
       "      <th>test_pred_prob</th>\n",
       "      <th>author</th>\n",
       "      <th>hindex</th>\n",
       "      <th>text</th>\n",
       "      <th>nb_paper</th>\n",
       "      <th>modindx</th>\n",
       "      <th>hindex_lab</th>\n",
       "    </tr>\n",
       "  </thead>\n",
       "  <tbody>\n",
       "    <tr>\n",
       "      <th>0</th>\n",
       "      <td>__label__6.0</td>\n",
       "      <td>0.886598</td>\n",
       "      <td>2396441528</td>\n",
       "      <td>1.0</td>\n",
       "      <td>temporal and spatial localities are basic conc...</td>\n",
       "      <td>2</td>\n",
       "      <td>1.0</td>\n",
       "      <td>__label__1.0</td>\n",
       "    </tr>\n",
       "    <tr>\n",
       "      <th>1</th>\n",
       "      <td>__label__2.0</td>\n",
       "      <td>0.260150</td>\n",
       "      <td>2564610222</td>\n",
       "      <td>1.0</td>\n",
       "      <td>patient self management is necessary for care ...</td>\n",
       "      <td>1</td>\n",
       "      <td>1.0</td>\n",
       "      <td>__label__1.0</td>\n",
       "    </tr>\n",
       "    <tr>\n",
       "      <th>3</th>\n",
       "      <td>__label__1.0</td>\n",
       "      <td>0.297672</td>\n",
       "      <td>2229182562</td>\n",
       "      <td>2.0</td>\n",
       "      <td>this paper describes the prototype of conversa...</td>\n",
       "      <td>2</td>\n",
       "      <td>2.0</td>\n",
       "      <td>__label__2.0</td>\n",
       "    </tr>\n",
       "    <tr>\n",
       "      <th>4</th>\n",
       "      <td>__label__6.0</td>\n",
       "      <td>0.328487</td>\n",
       "      <td>2308460797</td>\n",
       "      <td>4.0</td>\n",
       "      <td>the internet of things iot represents the curr...</td>\n",
       "      <td>5</td>\n",
       "      <td>4.0</td>\n",
       "      <td>__label__4.0</td>\n",
       "    </tr>\n",
       "    <tr>\n",
       "      <th>6</th>\n",
       "      <td>__label__6.0</td>\n",
       "      <td>0.485699</td>\n",
       "      <td>2799533387</td>\n",
       "      <td>1.0</td>\n",
       "      <td>castellanii ac are ubiquitously distributed in...</td>\n",
       "      <td>2</td>\n",
       "      <td>1.0</td>\n",
       "      <td>__label__1.0</td>\n",
       "    </tr>\n",
       "  </tbody>\n",
       "</table>\n",
       "</div>"
      ],
      "text/plain": [
       "  test_pred_lab  test_pred_prob      author  hindex  \\\n",
       "0  __label__6.0        0.886598  2396441528     1.0   \n",
       "1  __label__2.0        0.260150  2564610222     1.0   \n",
       "3  __label__1.0        0.297672  2229182562     2.0   \n",
       "4  __label__6.0        0.328487  2308460797     4.0   \n",
       "6  __label__6.0        0.485699  2799533387     1.0   \n",
       "\n",
       "                                                text  nb_paper  modindx  \\\n",
       "0  temporal and spatial localities are basic conc...         2      1.0   \n",
       "1  patient self management is necessary for care ...         1      1.0   \n",
       "3  this paper describes the prototype of conversa...         2      2.0   \n",
       "4  the internet of things iot represents the curr...         5      4.0   \n",
       "6  castellanii ac are ubiquitously distributed in...         2      1.0   \n",
       "\n",
       "     hindex_lab  \n",
       "0  __label__1.0  \n",
       "1  __label__1.0  \n",
       "3  __label__2.0  \n",
       "4  __label__4.0  \n",
       "6  __label__1.0  "
      ]
     },
     "execution_count": 17,
     "metadata": {},
     "output_type": "execute_result"
    }
   ],
   "source": [
    "comp =general_comp(model1,test1)\n",
    "comp.head()"
   ]
  },
  {
   "cell_type": "markdown",
   "metadata": {},
   "source": [
    "**exploitation de model**"
   ]
  },
  {
   "cell_type": "code",
   "execution_count": 18,
   "metadata": {},
   "outputs": [
    {
     "name": "stdout",
     "output_type": "stream",
     "text": [
      "[0.19239421 0.26014045 0.23961464 0.13467668 0.09813585 0.07503822]\n"
     ]
    },
    {
     "data": {
      "text/plain": [
       "(('__label__2.0',\n",
       "  '__label__1.0',\n",
       "  '__label__6.0',\n",
       "  '__label__3.0',\n",
       "  '__label__4.0',\n",
       "  '__label__5.0'),\n",
       " array([0.26015043, 0.2396246 , 0.19240421, 0.13468668, 0.09814584,\n",
       "        0.07504822]))"
      ]
     },
     "execution_count": 18,
     "metadata": {},
     "output_type": "execute_result"
    }
   ],
   "source": [
    "from scipy.special import softmax\n",
    "dictionnaire = model1.get_words()\n",
    "model1.get_word_id(\"hello\")\n",
    "len(dictionnaire)\n",
    "A = model1.get_input_matrix()\n",
    "B = model1.get_output_matrix()\n",
    "repthe = model1.get_sentence_vector(comp.iloc[1,4])\n",
    "softthe = repthe@B.T\n",
    "print(softmax(softthe))\n",
    "model1.predict(comp.iloc[1,4],k=6)"
   ]
  },
  {
   "cell_type": "markdown",
   "metadata": {},
   "source": [
    "On est sur que le modèle applique softmax sur la représentation du mot. Nous ou choisit donc d'appliquer un autre régresseur"
   ]
  },
  {
   "cell_type": "markdown",
   "metadata": {},
   "source": [
    "**Data for multiple regression model**"
   ]
  },
  {
   "cell_type": "code",
   "execution_count": 19,
   "metadata": {},
   "outputs": [],
   "source": [
    "def  reg_data(train,test):\n",
    "    X_train = np.zeros((train.shape[0],model1.dim))\n",
    "    set_rep = train['text'].apply(lambda x:model1.get_sentence_vector(x))\n",
    "    X_train = np.array(set_rep.to_list())\n",
    "    y_train = np.array(train['hindex'].to_list())\n",
    "    nb_train = np.array(train['nb_paper'].to_list()).reshape(-1,1)\n",
    "    X_train =np.concatenate((X_train,nb_train),axis = 1)\n",
    "\n",
    "    X_test = np.zeros((test.shape[0],model1.dim))\n",
    "    set_rep = test['text'].apply(lambda x:model1.get_sentence_vector(x))\n",
    "    X_test = np.array(set_rep.to_list())\n",
    "    y_test = np.array(test['hindex'].to_list())\n",
    "    nb_test = np.array(test['nb_paper'].to_list()).reshape(-1,1)\n",
    "    X_test =np.concatenate((X_test,nb_test),axis = 1)\n",
    "    return X_train,X_test,y_train,y_test"
   ]
  },
  {
   "cell_type": "code",
   "execution_count": 20,
   "metadata": {},
   "outputs": [],
   "source": [
    "X_train,X_test,y_train,y_test = reg_data(train1,test1)"
   ]
  },
  {
   "cell_type": "markdown",
   "metadata": {},
   "source": [
    "**Random forest**"
   ]
  },
  {
   "cell_type": "code",
   "execution_count": null,
   "metadata": {},
   "outputs": [
    {
     "data": {
      "text/plain": [
       "(7347, 21)"
      ]
     },
     "execution_count": 203,
     "metadata": {},
     "output_type": "execute_result"
    }
   ],
   "source": [
    "X_train.shape"
   ]
  },
  {
   "cell_type": "code",
   "execution_count": 21,
   "metadata": {},
   "outputs": [
    {
     "data": {
      "text/plain": [
       "RandomForestRegressor(random_state=1)"
      ]
     },
     "execution_count": 21,
     "metadata": {},
     "output_type": "execute_result"
    }
   ],
   "source": [
    "from sklearn.ensemble import RandomForestRegressor\n",
    "from sklearn.metrics import mean_squared_error\n",
    "\n",
    "forest_model = RandomForestRegressor(random_state=1)\n",
    "forest_model.fit(X_train,y_train)"
   ]
  },
  {
   "cell_type": "code",
   "execution_count": 22,
   "metadata": {},
   "outputs": [],
   "source": [
    "mod_preds = forest_model.predict(X_test)"
   ]
  },
  {
   "cell_type": "code",
   "execution_count": 23,
   "metadata": {},
   "outputs": [
    {
     "data": {
      "text/plain": [
       "94.52201829318089"
      ]
     },
     "execution_count": 23,
     "metadata": {},
     "output_type": "execute_result"
    }
   ],
   "source": [
    "mean_squared_error(y_test,mod_preds)"
   ]
  },
  {
   "cell_type": "markdown",
   "metadata": {},
   "source": []
  },
  {
   "cell_type": "code",
   "execution_count": null,
   "metadata": {},
   "outputs": [
    {
     "data": {
      "text/plain": [
       "160.0"
      ]
     },
     "execution_count": 148,
     "metadata": {},
     "output_type": "execute_result"
    }
   ],
   "source": [
    "y_train.max()"
   ]
  },
  {
   "cell_type": "markdown",
   "metadata": {},
   "source": [
    "**test svm**"
   ]
  },
  {
   "cell_type": "code",
   "execution_count": 45,
   "metadata": {},
   "outputs": [],
   "source": [
    "from sklearn.svm import SVC\n",
    "\n",
    "model_svm =SVC(kernel='sigmoid', C=2)"
   ]
  },
  {
   "cell_type": "code",
   "execution_count": 47,
   "metadata": {},
   "outputs": [
    {
     "data": {
      "text/plain": [
       "SVC(C=2, kernel='sigmoid')"
      ]
     },
     "execution_count": 47,
     "metadata": {},
     "output_type": "execute_result"
    }
   ],
   "source": [
    "model_svm.fit(X_train,y_train)"
   ]
  },
  {
   "cell_type": "code",
   "execution_count": 48,
   "metadata": {},
   "outputs": [],
   "source": [
    "svm_pred = model_svm.predict(X_test)"
   ]
  },
  {
   "cell_type": "code",
   "execution_count": 49,
   "metadata": {},
   "outputs": [
    {
     "data": {
      "text/plain": [
       "178.55247039608003"
      ]
     },
     "execution_count": 49,
     "metadata": {},
     "output_type": "execute_result"
    }
   ],
   "source": [
    "mean_squared_error(y_test,svm_pred)"
   ]
  },
  {
   "cell_type": "markdown",
   "metadata": {},
   "source": [
    "**Test CNN**"
   ]
  },
  {
   "cell_type": "code",
   "execution_count": null,
   "metadata": {},
   "outputs": [],
   "source": [
    "mlp = MLP"
   ]
  }
 ],
 "metadata": {
  "interpreter": {
   "hash": "f80d8b31525b6ea3adcf22249f5b1a58cdfe6d9f8b553721dcb1dc5ebfc8b9f9"
  },
  "kernelspec": {
   "display_name": "Python 3.8.8 64-bit ('base': conda)",
   "language": "python",
   "name": "python3"
  },
  "language_info": {
   "codemirror_mode": {
    "name": "ipython",
    "version": 3
   },
   "file_extension": ".py",
   "mimetype": "text/x-python",
   "name": "python",
   "nbconvert_exporter": "python",
   "pygments_lexer": "ipython3",
   "version": "3.8.8"
  },
  "orig_nbformat": 4
 },
 "nbformat": 4,
 "nbformat_minor": 2
}
