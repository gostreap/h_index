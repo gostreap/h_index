{
 "cells": [
  {
   "cell_type": "markdown",
   "metadata": {},
   "source": [
    "### Analyse et comprehension des fichiers"
   ]
  },
  {
   "cell_type": "code",
   "execution_count": 4,
   "metadata": {},
   "outputs": [],
   "source": [
    "import matplotlib.pyplot as plt\n",
    "from read_data import *\n",
    "from utils import *\n",
    "from fasttext_utils import *\n",
    "from sklearn.ensemble import RandomForestRegressor\n",
    "from sklearn.metrics import mean_squared_error\n",
    "from xgboost import XGBRegressor"
   ]
  },
  {
   "cell_type": "code",
   "execution_count": 5,
   "metadata": {},
   "outputs": [
    {
     "name": "stdout",
     "output_type": "stream",
     "text": [
      "10000\n",
      "20000\n",
      "30000\n",
      "40000\n",
      "50000\n",
      "60000\n",
      "70000\n",
      "80000\n",
      "90000\n",
      "100000\n",
      "110000\n",
      "120000\n",
      "130000\n",
      "140000\n",
      "150000\n",
      "160000\n",
      "170000\n",
      "180000\n",
      "190000\n",
      "200000\n",
      "210000\n",
      "217802\n",
      "Starting data columns : ['author', 'hindex', 'text', 'nb_paper']\n",
      "Add core number to data\n",
      "Add pagerank to data\n",
      "Add authority to data\n",
      "Add clustering coef to data\n",
      "Add eigenvector centrality to data\n",
      "Add small class to data\n",
      "Add neighborhood info to data\n"
     ]
    },
    {
     "name": "stderr",
     "output_type": "stream",
     "text": [
      "100%|██████████| 217801/217801 [00:55<00:00, 3935.78it/s]\n",
      "Read 99M words\n",
      "Number of words:  359997\n",
      "Number of labels: 6\n",
      "Progress: 100.0% words/sec/thread: 6841519 lr:  0.000000 avg.loss:  1.123567 ETA:   0h 0m 0s\n"
     ]
    },
    {
     "name": "stdout",
     "output_type": "stream",
     "text": [
      "Ending data columns : ['author', 'hindex', 'text', 'nb_paper', 'core_number', 'pagerank', 'authority', 'clustering_coef', 'eigenvector_centrality', 'modindx', 'hindex_lab', 'n_neighbors_dist_1', 'min_neighbors_dist_1', 'mean_neighbors_dist_1', 'max_neighbors_dist_1', 'n_neighbors_dist_2', 'min_neighbors_dist_2', 'mean_neighbors_dist_2', 'max_neighbors_dist_2', 'vector_coord_0', 'vector_coord_1']\n"
     ]
    }
   ],
   "source": [
    "store_full_dataset_with_features(from_scratch=True, vectorize=True)"
   ]
  },
  {
   "cell_type": "code",
   "execution_count": 6,
   "metadata": {},
   "outputs": [
    {
     "name": "stderr",
     "output_type": "stream",
     "text": [
      "/var/folders/57/vt366_td3_37y7bqh4rk7nqr0000gn/T/ipykernel_11641/1429269039.py:1: DtypeWarning: Columns (10) have mixed types.Specify dtype option on import or set low_memory=False.\n",
      "  train, test = get_processed_data()\n"
     ]
    }
   ],
   "source": [
    "train, test = get_processed_data()"
   ]
  },
  {
   "cell_type": "code",
   "execution_count": 7,
   "metadata": {},
   "outputs": [],
   "source": [
    "G, _, _ = get_graph()\n",
    "# G = nx.convert_matrix.to_scipy_sparse_matrix(G)\n",
    "percolation_centralities = nx.algorithms.centrality.eigenvector_centrality(G)"
   ]
  },
  {
   "cell_type": "markdown",
   "metadata": {},
   "source": [
    "**distribution des données**"
   ]
  },
  {
   "cell_type": "code",
   "execution_count": 8,
   "metadata": {},
   "outputs": [],
   "source": [
    "train,n_train = get_train_data()\n",
    "test,n_test = get_test_data()"
   ]
  },
  {
   "cell_type": "code",
   "execution_count": 9,
   "metadata": {},
   "outputs": [
    {
     "data": {
      "image/png": "[encoded data removed]",
      "text/plain": [
       "<Figure size 720x360 with 1 Axes>"
      ]
     },
     "metadata": {
      "needs_background": "light"
     },
     "output_type": "display_data"
    }
   ],
   "source": [
    "plt.figure(figsize=(10,5))\n",
    "plt.hist(x=train['hindex'],bins=187);"
   ]
  },
  {
   "cell_type": "markdown",
   "metadata": {},
   "source": [
    "**exploitation de model**"
   ]
  },
  {
   "cell_type": "markdown",
   "metadata": {},
   "source": [
    "On est sur que le modèle applique softmax sur la représentation du mot. Nous ou choisit donc d'appliquer un autre régresseur"
   ]
  },
  {
   "cell_type": "markdown",
   "metadata": {},
   "source": [
    "**Data for multiple regression model**"
   ]
  },
  {
   "cell_type": "code",
   "execution_count": 43,
   "metadata": {},
   "outputs": [
    {
     "name": "stderr",
     "output_type": "stream",
     "text": [
      "/var/folders/57/vt366_td3_37y7bqh4rk7nqr0000gn/T/ipykernel_11641/2692092469.py:1: DtypeWarning: Columns (10) have mixed types.Specify dtype option on import or set low_memory=False.\n",
      "  X_train, y_train, X_test, y_test = get_numpy_data(n=174241)\n"
     ]
    }
   ],
   "source": [
    "X_train, y_train, X_test, y_test = get_numpy_data(n=174241)"
   ]
  },
  {
   "cell_type": "code",
   "execution_count": 11,
   "metadata": {},
   "outputs": [],
   "source": [
    "X_train_norm, X_test_norm = normalize(X_train, X_test)"
   ]
  },
  {
   "cell_type": "markdown",
   "metadata": {},
   "source": [
    "**Random forest**"
   ]
  },
  {
   "cell_type": "code",
   "execution_count": 12,
   "metadata": {},
   "outputs": [],
   "source": [
    "from sklearn.ensemble import RandomForestRegressor\n",
    "from sklearn.metrics import mean_squared_error\n",
    "from sklearn.model_selection import RandomizedSearchCV\n",
    "from xgboost import XGBRegressor\n",
    "from sklearn.model_selection import GridSearchCV"
   ]
  },
  {
   "cell_type": "markdown",
   "metadata": {},
   "source": [
    "**XG_BOOST**"
   ]
  },
  {
   "cell_type": "code",
   "execution_count": null,
   "metadata": {},
   "outputs": [],
   "source": [
    "model_xg = XGBRegressor(learning_rate=0.01, max_depth=5, objective=\"reg:linear\", subsample=0.7, n_estimators=500)\n",
    "model_xg.fit(X_train,y_train)\n",
    "mod_preds = model_xg.predict(X_test)\n",
    "mean_squared_error(y_test,mod_preds)"
   ]
  },
  {
   "cell_type": "markdown",
   "metadata": {},
   "source": [
    "**Neural Network**"
   ]
  },
  {
   "cell_type": "code",
   "execution_count": null,
   "metadata": {},
   "outputs": [],
   "source": [
    "\n",
    "from tensorflow import keras\n",
    "from tensorflow.keras import layers"
   ]
  },
  {
   "cell_type": "code",
   "execution_count": null,
   "metadata": {},
   "outputs": [],
   "source": [
    "model_nn = keras.Sequential()\n",
    "model_nn.add(layers.Dense(64, kernel_initializer='uniform', input_shape=(10,)))\n",
    "model_nn.add(layers.Activation('softmax'))\n",
    "\n",
    "lr_schedule = keras.optimizers.schedules.ExponentialDecay(\n",
    "    initial_learning_rate=1e-2,\n",
    "    decay_steps=10000,\n",
    "    decay_rate=0.9)\n",
    "optimizer = keras.optimizers.SGD(learning_rate=lr_schedule)\n",
    "\n",
    "model_nn.compile(loss='mse', optimizer=optimizer)\n",
    "\n",
    "model_nn.fit(X_train,y_train, epochs=10, batch_size=5)\n",
    "mod_nn_preds = model_nn.predict(X_test)\n",
    "print(len(mod_nn_preds))\n",
    "mean_squared_error(y_test,mod_nn_preds)"
   ]
  },
  {
   "cell_type": "markdown",
   "metadata": {},
   "source": [
    "### CATBOOST"
   ]
  },
  {
   "cell_type": "code",
   "execution_count": 9,
   "metadata": {},
   "outputs": [
    {
     "data": {
      "text/plain": [
       "48.3607035691917"
      ]
     },
     "execution_count": 9,
     "metadata": {},
     "output_type": "execute_result"
    }
   ],
   "source": [
    "from catboost import CatBoostRegressor\n",
    "model_cat = CatBoostRegressor(verbose=False)\n",
    "model_cat.fit(X_train, y_train)\n",
    "mod_preds = model_cat.predict(X_test)\n",
    "mean_squared_error(y_test,mod_preds)"
   ]
  },
  {
   "cell_type": "code",
   "execution_count": 10,
   "metadata": {},
   "outputs": [
    {
     "name": "stdout",
     "output_type": "stream",
     "text": [
      "Training on fold [0/3]\n",
      "\n",
      "bestTest = 6.943675114\n",
      "bestIteration = 997\n",
      "\n",
      "Training on fold [1/3]\n",
      "\n",
      "bestTest = 7.025288715\n",
      "bestIteration = 998\n",
      "\n",
      "Training on fold [2/3]\n",
      "\n",
      "bestTest = 7.019548334\n",
      "bestIteration = 999\n",
      "\n"
     ]
    },
    {
     "data": {
      "text/html": [
       "<div>\n",
       "<style scoped>\n",
       "    .dataframe tbody tr th:only-of-type {\n",
       "        vertical-align: middle;\n",
       "    }\n",
       "\n",
       "    .dataframe tbody tr th {\n",
       "        vertical-align: top;\n",
       "    }\n",
       "\n",
       "    .dataframe thead th {\n",
       "        text-align: right;\n",
       "    }\n",
       "</style>\n",
       "<table border=\"1\" class=\"dataframe\">\n",
       "  <thead>\n",
       "    <tr style=\"text-align: right;\">\n",
       "      <th></th>\n",
       "      <th>iterations</th>\n",
       "      <th>test-RMSE-mean</th>\n",
       "      <th>test-RMSE-std</th>\n",
       "      <th>train-RMSE-mean</th>\n",
       "      <th>train-RMSE-std</th>\n",
       "    </tr>\n",
       "  </thead>\n",
       "  <tbody>\n",
       "    <tr>\n",
       "      <th>0</th>\n",
       "      <td>0</td>\n",
       "      <td>15.769091</td>\n",
       "      <td>0.144416</td>\n",
       "      <td>15.768537</td>\n",
       "      <td>0.075459</td>\n",
       "    </tr>\n",
       "    <tr>\n",
       "      <th>1</th>\n",
       "      <td>1</td>\n",
       "      <td>15.453130</td>\n",
       "      <td>0.140421</td>\n",
       "      <td>15.452262</td>\n",
       "      <td>0.072936</td>\n",
       "    </tr>\n",
       "    <tr>\n",
       "      <th>2</th>\n",
       "      <td>2</td>\n",
       "      <td>15.139548</td>\n",
       "      <td>0.138511</td>\n",
       "      <td>15.138040</td>\n",
       "      <td>0.070778</td>\n",
       "    </tr>\n",
       "    <tr>\n",
       "      <th>3</th>\n",
       "      <td>3</td>\n",
       "      <td>14.839479</td>\n",
       "      <td>0.137209</td>\n",
       "      <td>14.837476</td>\n",
       "      <td>0.067895</td>\n",
       "    </tr>\n",
       "    <tr>\n",
       "      <th>4</th>\n",
       "      <td>4</td>\n",
       "      <td>14.554043</td>\n",
       "      <td>0.137167</td>\n",
       "      <td>14.550388</td>\n",
       "      <td>0.063020</td>\n",
       "    </tr>\n",
       "    <tr>\n",
       "      <th>...</th>\n",
       "      <td>...</td>\n",
       "      <td>...</td>\n",
       "      <td>...</td>\n",
       "      <td>...</td>\n",
       "      <td>...</td>\n",
       "    </tr>\n",
       "    <tr>\n",
       "      <th>995</th>\n",
       "      <td>995</td>\n",
       "      <td>6.996687</td>\n",
       "      <td>0.045852</td>\n",
       "      <td>6.574947</td>\n",
       "      <td>0.035201</td>\n",
       "    </tr>\n",
       "    <tr>\n",
       "      <th>996</th>\n",
       "      <td>996</td>\n",
       "      <td>6.996557</td>\n",
       "      <td>0.045878</td>\n",
       "      <td>6.574299</td>\n",
       "      <td>0.035081</td>\n",
       "    </tr>\n",
       "    <tr>\n",
       "      <th>997</th>\n",
       "      <td>997</td>\n",
       "      <td>6.996372</td>\n",
       "      <td>0.045731</td>\n",
       "      <td>6.573820</td>\n",
       "      <td>0.035280</td>\n",
       "    </tr>\n",
       "    <tr>\n",
       "      <th>998</th>\n",
       "      <td>998</td>\n",
       "      <td>6.996265</td>\n",
       "      <td>0.045465</td>\n",
       "      <td>6.573436</td>\n",
       "      <td>0.035340</td>\n",
       "    </tr>\n",
       "    <tr>\n",
       "      <th>999</th>\n",
       "      <td>999</td>\n",
       "      <td>6.996331</td>\n",
       "      <td>0.045395</td>\n",
       "      <td>6.572938</td>\n",
       "      <td>0.035487</td>\n",
       "    </tr>\n",
       "  </tbody>\n",
       "</table>\n",
       "<p>1000 rows × 5 columns</p>\n",
       "</div>"
      ],
      "text/plain": [
       "     iterations  test-RMSE-mean  test-RMSE-std  train-RMSE-mean  \\\n",
       "0             0       15.769091       0.144416        15.768537   \n",
       "1             1       15.453130       0.140421        15.452262   \n",
       "2             2       15.139548       0.138511        15.138040   \n",
       "3             3       14.839479       0.137209        14.837476   \n",
       "4             4       14.554043       0.137167        14.550388   \n",
       "..          ...             ...            ...              ...   \n",
       "995         995        6.996687       0.045852         6.574947   \n",
       "996         996        6.996557       0.045878         6.574299   \n",
       "997         997        6.996372       0.045731         6.573820   \n",
       "998         998        6.996265       0.045465         6.573436   \n",
       "999         999        6.996331       0.045395         6.572938   \n",
       "\n",
       "     train-RMSE-std  \n",
       "0          0.075459  \n",
       "1          0.072936  \n",
       "2          0.070778  \n",
       "3          0.067895  \n",
       "4          0.063020  \n",
       "..              ...  \n",
       "995        0.035201  \n",
       "996        0.035081  \n",
       "997        0.035280  \n",
       "998        0.035340  \n",
       "999        0.035487  \n",
       "\n",
       "[1000 rows x 5 columns]"
      ]
     },
     "execution_count": 10,
     "metadata": {},
     "output_type": "execute_result"
    }
   ],
   "source": [
    "from catboost import cv, Pool\n",
    "params = {\n",
    "    \"loss_function\":\"RMSE\"\n",
    "}\n",
    "cv_dataset = Pool(data=X_train, label=y_train)\n",
    "cv(cv_dataset, params=params, verbose=False)"
   ]
  },
  {
   "cell_type": "markdown",
   "metadata": {},
   "source": [
    "**Light GBM**"
   ]
  },
  {
   "cell_type": "code",
   "execution_count": 46,
   "metadata": {},
   "outputs": [
    {
     "name": "stderr",
     "output_type": "stream",
     "text": [
      "/opt/homebrew/Caskroom/miniforge/base/envs/X/lib/python3.9/site-packages/lightgbm/engine.py:177: UserWarning: Found `num_iterations` in params. Will use it instead of argument\n",
      "  _log_warning(f\"Found `{alias}` in params. Will use it instead of argument\")\n"
     ]
    },
    {
     "name": "stdout",
     "output_type": "stream",
     "text": [
      "[LightGBM] [Warning] Auto-choosing row-wise multi-threading, the overhead of testing was 0.001238 seconds.\n",
      "You can set `force_row_wise=true` to remove the overhead.\n",
      "And if memory is not enough, you can set `force_col_wise=true`.\n",
      "[LightGBM] [Info] Total Bins 3086\n",
      "[LightGBM] [Info] Number of data points in the train set: 130680, number of used features: 16\n",
      "[LightGBM] [Info] Start training from score 10.056688\n"
     ]
    },
    {
     "data": {
      "text/plain": [
       "48.45426553993418"
      ]
     },
     "execution_count": 46,
     "metadata": {},
     "output_type": "execute_result"
    }
   ],
   "source": [
    "import lightgbm as lgb\n",
    "d_train = lgb.Dataset(X_train, label = y_train)\n",
    "params = {}\n",
    "params['learning_rate'] = 0.33\n",
    "params['num_iterations'] = 100\n",
    "params['boosting_type'] = 'dart'\n",
    "params['objective'] = 'regression'\n",
    "params['metric'] = 'rmse'\n",
    "params['sub_feature'] = 0.6\n",
    "params['num_leaves'] = 50\n",
    "params['min_data'] = 60\n",
    "params['max_depth'] = 35\n",
    "clf = lgb.train(params, d_train, 100)\n",
    "y_pred=clf.predict(X_test)\n",
    "mean_squared_error(y_test,y_pred)"
   ]
  },
  {
   "cell_type": "markdown",
   "metadata": {},
   "source": [
    "**test linear regression**"
   ]
  },
  {
   "cell_type": "code",
   "execution_count": null,
   "metadata": {},
   "outputs": [],
   "source": [
    "from sklearn import linear_model\n",
    "\n",
    "reg = linear_model.TweedieRegressor().fit(X_train,y_train)"
   ]
  },
  {
   "cell_type": "code",
   "execution_count": null,
   "metadata": {},
   "outputs": [],
   "source": [
    "reg_pred = reg.predict(X_test)"
   ]
  },
  {
   "cell_type": "code",
   "execution_count": null,
   "metadata": {},
   "outputs": [],
   "source": [
    "mean_squared_error(y_test,reg_pred)"
   ]
  },
  {
   "cell_type": "markdown",
   "metadata": {},
   "source": [
    "**test svm**"
   ]
  },
  {
   "cell_type": "code",
   "execution_count": null,
   "metadata": {},
   "outputs": [],
   "source": [
    "from sklearn.svm import SVC\n",
    "\n",
    "model_svm =SVC(kernel='sigmoid', C=2)"
   ]
  },
  {
   "cell_type": "code",
   "execution_count": null,
   "metadata": {},
   "outputs": [],
   "source": [
    "model_svm.fit(X_train,y_train)"
   ]
  },
  {
   "cell_type": "code",
   "execution_count": null,
   "metadata": {},
   "outputs": [],
   "source": [
    "svm_pred = model_svm.predict(X_test)"
   ]
  },
  {
   "cell_type": "code",
   "execution_count": null,
   "metadata": {},
   "outputs": [],
   "source": [
    "mean_squared_error(y_test,svm_pred)"
   ]
  },
  {
   "cell_type": "markdown",
   "metadata": {},
   "source": [
    "**Test CNN**"
   ]
  },
  {
   "cell_type": "markdown",
   "metadata": {},
   "source": [
    "# Soumission"
   ]
  },
  {
   "cell_type": "code",
   "execution_count": null,
   "metadata": {},
   "outputs": [],
   "source": [
    "from submit import submit\n",
    "from xgboost import XGBRegressor\n",
    "from sklearn.ensemble import RandomForestRegressor\n",
    "# from catboost import CatBoostRegressor\n",
    "\n",
    "model_cat = CatBoostRegressor(verbose=False)\n",
    "model_forest = RandomForestRegressor()\n",
    "model_xg = XGBRegressor(learning_rate=0.01, max_depth=5, objective=\"reg:linear\", subsample=0.7, n_estimators=500)\n",
    "\n",
    "submit(model_cat)"
   ]
  },
  {
   "cell_type": "code",
   "execution_count": 41,
   "metadata": {},
   "outputs": [
    {
     "name": "stderr",
     "output_type": "stream",
     "text": [
      "/var/folders/57/vt366_td3_37y7bqh4rk7nqr0000gn/T/ipykernel_11641/3681237703.py:3: DtypeWarning: Columns (10) have mixed types.Specify dtype option on import or set low_memory=False.\n",
      "  X_train, y_train, X_test, y_test = get_submission_data()\n",
      "/opt/homebrew/Caskroom/miniforge/base/envs/X/lib/python3.9/site-packages/lightgbm/engine.py:177: UserWarning: Found `num_iterations` in params. Will use it instead of argument\n",
      "  _log_warning(f\"Found `{alias}` in params. Will use it instead of argument\")\n"
     ]
    },
    {
     "name": "stdout",
     "output_type": "stream",
     "text": [
      "[LightGBM] [Warning] Auto-choosing col-wise multi-threading, the overhead of testing was 0.005061 seconds.\n",
      "You can set `force_col_wise=true` to remove the overhead.\n",
      "[LightGBM] [Info] Total Bins 3113\n",
      "[LightGBM] [Info] Number of data points in the train set: 174241, number of used features: 16\n",
      "[LightGBM] [Info] Start training from score 10.087609\n"
     ]
    }
   ],
   "source": [
    "import lightgbm as lgb\n",
    "\n",
    "X_train, y_train, X_test, y_test = get_submission_data()\n",
    "X_train, X_test = normalize(X_train, X_test)\n",
    "\n",
    "\n",
    "d_train = lgb.Dataset(X_train, label = y_train)\n",
    "params = {}\n",
    "params['learning_rate'] = 0.10\n",
    "params['num_iterations'] = 500\n",
    "params['boosting_type'] = 'dart'\n",
    "params['objective'] = 'regression'\n",
    "params['metric'] = 'rmse'\n",
    "params['sub_feature'] = 0.6\n",
    "params['num_leaves'] = 50\n",
    "params['min_data'] = 60\n",
    "params['max_depth'] = 35\n",
    "clf = lgb.train(params, d_train, 100)\n",
    "y_pred=clf.predict(X_test)\n",
    "\n",
    "\n",
    "test, _ = get_test_data()\n",
    "test[\"hindex\"] = y_pred\n",
    "submission = test[[\"author\", \"hindex\"]]\n",
    "submission.to_csv(\"../tmp/submission.csv\", index=None)"
   ]
  },
  {
   "cell_type": "code",
   "execution_count": null,
   "metadata": {},
   "outputs": [],
   "source": []
  }
 ],
 "metadata": {
  "interpreter": {
   "hash": "f80d8b31525b6ea3adcf22249f5b1a58cdfe6d9f8b553721dcb1dc5ebfc8b9f9"
  },
  "kernelspec": {
   "display_name": "Python 3.8.8 64-bit ('base': conda)",
   "language": "python",
   "name": "python3"
  },
  "language_info": {
   "codemirror_mode": {
    "name": "ipython",
    "version": 3
   },
   "file_extension": ".py",
   "mimetype": "text/x-python",
   "name": "python",
   "nbconvert_exporter": "python",
   "pygments_lexer": "ipython3",
   "version": "3.9.7"
  },
  "orig_nbformat": 4
 },
 "nbformat": 4,
 "nbformat_minor": 2
}
