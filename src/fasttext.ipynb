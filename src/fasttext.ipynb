{
 "cells": [
  {
   "cell_type": "markdown",
   "metadata": {},
   "source": [
    "### Analyse et comprehension des fichiers"
   ]
  },
  {
   "cell_type": "code",
   "execution_count": 1,
   "metadata": {},
   "outputs": [],
   "source": [
    "import matplotlib.pyplot as plt\n",
    "from read_data import *\n",
    "from utils import *\n",
    "from fasttext_utils import *\n",
    "from sklearn.model_selection import train_test_split\n",
    "import fasttext"
   ]
  },
  {
   "cell_type": "markdown",
   "metadata": {},
   "source": [
    "**distribution des données**"
   ]
  },
  {
   "cell_type": "code",
   "execution_count": 2,
   "metadata": {},
   "outputs": [],
   "source": [
    "train,n_train = get_train_data()\n",
    "test,n_test = get_test_data()"
   ]
  },
  {
   "cell_type": "code",
   "execution_count": 3,
   "metadata": {},
   "outputs": [
    {
     "data": {
      "text/plain": [
       "(array([2.0884e+04, 2.2230e+04, 1.7271e+04, 1.4247e+04, 1.1621e+04,\n",
       "        9.8170e+03, 8.2930e+03, 7.0990e+03, 6.0250e+03, 5.3830e+03,\n",
       "        4.6670e+03, 4.0500e+03, 3.5170e+03, 3.1240e+03, 2.8340e+03,\n",
       "        2.5460e+03, 2.2770e+03, 2.1610e+03, 1.9050e+03, 1.7140e+03,\n",
       "        1.5030e+03, 1.4180e+03, 1.3000e+03, 1.2150e+03, 1.1120e+03,\n",
       "        1.0170e+03, 9.0900e+02, 8.5800e+02, 7.7300e+02, 7.3500e+02,\n",
       "        7.1100e+02, 6.7800e+02, 6.4000e+02, 5.7600e+02, 5.0500e+02,\n",
       "        5.0100e+02, 4.4200e+02, 4.3900e+02, 3.8100e+02, 3.5300e+02,\n",
       "        3.3000e+02, 3.2800e+02, 2.7600e+02, 3.0500e+02, 2.7600e+02,\n",
       "        2.9000e+02, 2.6400e+02, 2.3900e+02, 2.1200e+02, 2.1400e+02,\n",
       "        2.0800e+02, 2.2800e+02, 1.8500e+02, 1.8200e+02, 1.6400e+02,\n",
       "        1.5200e+02, 1.4400e+02, 1.5700e+02, 1.3900e+02, 1.8700e+02,\n",
       "        1.2400e+02, 1.2800e+02, 9.5000e+01, 1.1600e+02, 1.1100e+02,\n",
       "        1.6000e+02, 9.8000e+01, 1.0200e+02, 5.7000e+01, 6.9000e+01,\n",
       "        6.9000e+01, 5.2000e+01, 7.2000e+01, 4.5000e+01, 5.8000e+01,\n",
       "        5.4000e+01, 4.5000e+01, 5.8000e+01, 3.8000e+01, 4.1000e+01,\n",
       "        2.2000e+01, 2.3000e+01, 2.4000e+01, 2.9000e+01, 2.2000e+01,\n",
       "        2.5000e+01, 1.1000e+01, 1.6000e+01, 1.1000e+01, 9.0000e+00,\n",
       "        1.1000e+01, 1.1000e+01, 8.0000e+00, 1.7000e+01, 7.0000e+00,\n",
       "        1.0000e+01, 8.0000e+00, 1.0000e+01, 6.0000e+00, 9.0000e+00,\n",
       "        7.0000e+00, 1.2000e+01, 9.0000e+00, 5.0000e+00, 9.0000e+00,\n",
       "        1.0000e+00, 6.0000e+00, 7.0000e+00, 5.0000e+00, 4.0000e+00,\n",
       "        2.0000e+00, 4.0000e+00, 3.0000e+00, 4.0000e+00, 2.0000e+00,\n",
       "        2.0000e+00, 6.0000e+00, 6.0000e+00, 3.0000e+00, 4.0000e+00,\n",
       "        1.0000e+00, 2.0000e+00, 4.0000e+00, 0.0000e+00, 3.0000e+00,\n",
       "        2.0000e+00, 5.0000e+00, 2.0000e+00, 2.0000e+00, 1.0000e+00,\n",
       "        3.0000e+00, 1.0000e+00, 0.0000e+00, 1.0000e+00, 3.0000e+00,\n",
       "        0.0000e+00, 1.0000e+00, 3.0000e+00, 2.0000e+00, 1.0000e+00,\n",
       "        0.0000e+00, 0.0000e+00, 1.0000e+00, 0.0000e+00, 1.0000e+00,\n",
       "        0.0000e+00, 0.0000e+00, 1.0000e+00, 0.0000e+00, 0.0000e+00,\n",
       "        1.0000e+00, 0.0000e+00, 0.0000e+00, 1.0000e+00, 0.0000e+00,\n",
       "        0.0000e+00, 0.0000e+00, 0.0000e+00, 0.0000e+00, 1.0000e+00,\n",
       "        0.0000e+00, 0.0000e+00, 1.0000e+00, 1.0000e+00, 0.0000e+00,\n",
       "        0.0000e+00, 0.0000e+00, 0.0000e+00, 1.0000e+00, 0.0000e+00,\n",
       "        0.0000e+00, 0.0000e+00, 0.0000e+00, 0.0000e+00, 0.0000e+00,\n",
       "        0.0000e+00, 0.0000e+00, 0.0000e+00, 0.0000e+00, 0.0000e+00,\n",
       "        0.0000e+00, 0.0000e+00, 0.0000e+00, 0.0000e+00, 0.0000e+00,\n",
       "        1.0000e+00, 1.0000e+00]),\n",
       " array([  1.       ,   1.9946524,   2.9893048,   3.9839573,   4.9786096,\n",
       "          5.973262 ,   6.9679146,   7.962567 ,   8.957219 ,   9.951872 ,\n",
       "         10.946524 ,  11.941176 ,  12.935829 ,  13.930481 ,  14.925134 ,\n",
       "         15.919786 ,  16.914438 ,  17.90909  ,  18.903744 ,  19.898396 ,\n",
       "         20.893047 ,  21.887701 ,  22.882353 ,  23.877005 ,  24.871658 ,\n",
       "         25.86631  ,  26.860962 ,  27.855616 ,  28.850267 ,  29.84492  ,\n",
       "         30.839573 ,  31.834225 ,  32.828876 ,  33.82353  ,  34.81818  ,\n",
       "         35.812836 ,  36.807487 ,  37.80214  ,  38.79679  ,  39.791443 ,\n",
       "         40.786095 ,  41.78075  ,  42.775402 ,  43.770054 ,  44.764706 ,\n",
       "         45.759357 ,  46.75401  ,  47.748665 ,  48.743317 ,  49.73797  ,\n",
       "         50.73262  ,  51.727272 ,  52.721924 ,  53.71658  ,  54.71123  ,\n",
       "         55.705883 ,  56.700535 ,  57.695187 ,  58.68984  ,  59.68449  ,\n",
       "         60.679146 ,  61.673798 ,  62.66845  ,  63.6631   ,  64.65775  ,\n",
       "         65.652405 ,  66.64706  ,  67.64171  ,  68.63636  ,  69.63102  ,\n",
       "         70.62567  ,  71.62032  ,  72.614975 ,  73.60963  ,  74.60428  ,\n",
       "         75.59893  ,  76.59358  ,  77.588234 ,  78.582886 ,  79.57754  ,\n",
       "         80.57219  ,  81.56684  ,  82.5615   ,  83.55615  ,  84.550804 ,\n",
       "         85.545456 ,  86.54011  ,  87.53476  ,  88.52941  ,  89.52406  ,\n",
       "         90.518715 ,  91.51337  ,  92.50802  ,  93.50267  ,  94.49733  ,\n",
       "         95.49198  ,  96.48663  ,  97.481285 ,  98.47594  ,  99.47059  ,\n",
       "        100.46524  , 101.45989  , 102.454544 , 103.449196 , 104.44385  ,\n",
       "        105.4385   , 106.43316  , 107.42781  , 108.42246  , 109.417114 ,\n",
       "        110.411766 , 111.40642  , 112.40107  , 113.39572  , 114.39037  ,\n",
       "        115.385025 , 116.37968  , 117.37433  , 118.36898  , 119.36364  ,\n",
       "        120.35829  , 121.35294  , 122.347595 , 123.34225  , 124.3369   ,\n",
       "        125.33155  , 126.3262   , 127.320854 , 128.3155   , 129.31017  ,\n",
       "        130.30481  , 131.29947  , 132.29411  , 133.28877  , 134.28342  ,\n",
       "        135.27808  , 136.27272  , 137.26738  , 138.26204  , 139.25668  ,\n",
       "        140.25134  , 141.24599  , 142.24065  , 143.23529  , 144.22995  ,\n",
       "        145.2246   , 146.21925  , 147.2139   , 148.20856  , 149.2032   ,\n",
       "        150.19786  , 151.19252  , 152.18716  , 153.18182  , 154.17647  ,\n",
       "        155.17113  , 156.16577  , 157.16043  , 158.15508  , 159.14973  ,\n",
       "        160.14438  , 161.13904  , 162.13368  , 163.12834  , 164.123    ,\n",
       "        165.11765  , 166.1123   , 167.10695  , 168.10161  , 169.09625  ,\n",
       "        170.09091  , 171.08556  , 172.08022  , 173.07486  , 174.06952  ,\n",
       "        175.06418  , 176.05882  , 177.05348  , 178.04813  , 179.04279  ,\n",
       "        180.03743  , 181.03209  , 182.02673  , 183.0214   , 184.01604  ,\n",
       "        185.0107   , 186.00534  , 187.       ], dtype=float32),\n",
       " <BarContainer object of 187 artists>)"
      ]
     },
     "execution_count": 3,
     "metadata": {},
     "output_type": "execute_result"
    },
    {
     "data": {
      "image/png": "[encoded data removed]",
      "text/plain": [
       "<Figure size 720x360 with 1 Axes>"
      ]
     },
     "metadata": {
      "needs_background": "light"
     },
     "output_type": "display_data"
    }
   ],
   "source": [
    "plt.figure(figsize=(10,5))\n",
    "plt.hist(x=train['hindex'],bins=187)"
   ]
  },
  {
   "cell_type": "markdown",
   "metadata": {},
   "source": [
    "**selection of sub-dataset with same distribution than the original**"
   ]
  },
  {
   "cell_type": "code",
   "execution_count": 4,
   "metadata": {},
   "outputs": [
    {
     "data": {
      "text/html": [
       "<div>\n",
       "<style scoped>\n",
       "    .dataframe tbody tr th:only-of-type {\n",
       "        vertical-align: middle;\n",
       "    }\n",
       "\n",
       "    .dataframe tbody tr th {\n",
       "        vertical-align: top;\n",
       "    }\n",
       "\n",
       "    .dataframe thead th {\n",
       "        text-align: right;\n",
       "    }\n",
       "</style>\n",
       "<table border=\"1\" class=\"dataframe\">\n",
       "  <thead>\n",
       "    <tr style=\"text-align: right;\">\n",
       "      <th></th>\n",
       "      <th>author</th>\n",
       "      <th>hindex</th>\n",
       "      <th>text</th>\n",
       "      <th>nb_paper</th>\n",
       "      <th>mean_coauthors_hindex</th>\n",
       "      <th>n_coauthors</th>\n",
       "      <th>modindx</th>\n",
       "      <th>hindex_lab</th>\n",
       "    </tr>\n",
       "  </thead>\n",
       "  <tbody>\n",
       "    <tr>\n",
       "      <th>0</th>\n",
       "      <td>2192797973</td>\n",
       "      <td>15.0</td>\n",
       "      <td>we present newly collected data set of gold st...</td>\n",
       "      <td>5</td>\n",
       "      <td>12.000000</td>\n",
       "      <td>6</td>\n",
       "      <td>6.0</td>\n",
       "      <td>__label__6.0</td>\n",
       "    </tr>\n",
       "    <tr>\n",
       "      <th>1</th>\n",
       "      <td>2568812976</td>\n",
       "      <td>4.0</td>\n",
       "      <td>problem to be solved to provide tv system for ...</td>\n",
       "      <td>5</td>\n",
       "      <td>16.500000</td>\n",
       "      <td>2</td>\n",
       "      <td>4.0</td>\n",
       "      <td>__label__4.0</td>\n",
       "    </tr>\n",
       "    <tr>\n",
       "      <th>2</th>\n",
       "      <td>2159374572</td>\n",
       "      <td>24.0</td>\n",
       "      <td>this paper presents novel engine coined topx f...</td>\n",
       "      <td>5</td>\n",
       "      <td>16.716981</td>\n",
       "      <td>53</td>\n",
       "      <td>6.0</td>\n",
       "      <td>__label__6.0</td>\n",
       "    </tr>\n",
       "    <tr>\n",
       "      <th>3</th>\n",
       "      <td>2745744053</td>\n",
       "      <td>22.0</td>\n",
       "      <td>this paper describes coherent optical orthogon...</td>\n",
       "      <td>5</td>\n",
       "      <td>16.000000</td>\n",
       "      <td>4</td>\n",
       "      <td>6.0</td>\n",
       "      <td>__label__6.0</td>\n",
       "    </tr>\n",
       "    <tr>\n",
       "      <th>4</th>\n",
       "      <td>2127692187</td>\n",
       "      <td>18.0</td>\n",
       "      <td>method for real time detection of denial of se...</td>\n",
       "      <td>4</td>\n",
       "      <td>15.666667</td>\n",
       "      <td>3</td>\n",
       "      <td>6.0</td>\n",
       "      <td>__label__6.0</td>\n",
       "    </tr>\n",
       "  </tbody>\n",
       "</table>\n",
       "</div>"
      ],
      "text/plain": [
       "       author  hindex                                               text  \\\n",
       "0  2192797973    15.0  we present newly collected data set of gold st...   \n",
       "1  2568812976     4.0  problem to be solved to provide tv system for ...   \n",
       "2  2159374572    24.0  this paper presents novel engine coined topx f...   \n",
       "3  2745744053    22.0  this paper describes coherent optical orthogon...   \n",
       "4  2127692187    18.0  method for real time detection of denial of se...   \n",
       "\n",
       "   nb_paper  mean_coauthors_hindex  n_coauthors  modindx    hindex_lab  \n",
       "0         5              12.000000            6      6.0  __label__6.0  \n",
       "1         5              16.500000            2      4.0  __label__4.0  \n",
       "2         5              16.716981           53      6.0  __label__6.0  \n",
       "3         5              16.000000            4      6.0  __label__6.0  \n",
       "4         4              15.666667            3      6.0  __label__6.0  "
      ]
     },
     "execution_count": 4,
     "metadata": {},
     "output_type": "execute_result"
    }
   ],
   "source": [
    "data_path = \"../tmp/data_10000.csv\"\n",
    "data = preprocessing_for_fastText(10000,train)\n",
    "data.to_csv(data_path,index=None)\n",
    "data = pd.read_csv(data_path)\n",
    "data = small_class(data, 6)\n",
    "data.head()"
   ]
  },
  {
   "cell_type": "code",
   "execution_count": 5,
   "metadata": {},
   "outputs": [
    {
     "data": {
      "text/html": [
       "<div>\n",
       "<style scoped>\n",
       "    .dataframe tbody tr th:only-of-type {\n",
       "        vertical-align: middle;\n",
       "    }\n",
       "\n",
       "    .dataframe tbody tr th {\n",
       "        vertical-align: top;\n",
       "    }\n",
       "\n",
       "    .dataframe thead th {\n",
       "        text-align: right;\n",
       "    }\n",
       "</style>\n",
       "<table border=\"1\" class=\"dataframe\">\n",
       "  <thead>\n",
       "    <tr style=\"text-align: right;\">\n",
       "      <th></th>\n",
       "      <th>author</th>\n",
       "      <th>hindex</th>\n",
       "      <th>nb_paper</th>\n",
       "      <th>mean_coauthors_hindex</th>\n",
       "      <th>n_coauthors</th>\n",
       "      <th>modindx</th>\n",
       "    </tr>\n",
       "  </thead>\n",
       "  <tbody>\n",
       "    <tr>\n",
       "      <th>count</th>\n",
       "      <td>9.796000e+03</td>\n",
       "      <td>9796.000000</td>\n",
       "      <td>9796.000000</td>\n",
       "      <td>9796.000000</td>\n",
       "      <td>9796.000000</td>\n",
       "      <td>9796.000000</td>\n",
       "    </tr>\n",
       "    <tr>\n",
       "      <th>mean</th>\n",
       "      <td>1.993336e+09</td>\n",
       "      <td>9.841160</td>\n",
       "      <td>3.977338</td>\n",
       "      <td>15.514139</td>\n",
       "      <td>9.563699</td>\n",
       "      <td>4.386178</td>\n",
       "    </tr>\n",
       "    <tr>\n",
       "      <th>std</th>\n",
       "      <td>6.393600e+08</td>\n",
       "      <td>12.055575</td>\n",
       "      <td>1.323559</td>\n",
       "      <td>11.152517</td>\n",
       "      <td>39.555898</td>\n",
       "      <td>1.890577</td>\n",
       "    </tr>\n",
       "    <tr>\n",
       "      <th>min</th>\n",
       "      <td>1.139156e+07</td>\n",
       "      <td>1.000000</td>\n",
       "      <td>1.000000</td>\n",
       "      <td>1.000000</td>\n",
       "      <td>0.000000</td>\n",
       "      <td>1.000000</td>\n",
       "    </tr>\n",
       "    <tr>\n",
       "      <th>25%</th>\n",
       "      <td>2.019859e+09</td>\n",
       "      <td>3.000000</td>\n",
       "      <td>3.000000</td>\n",
       "      <td>8.000000</td>\n",
       "      <td>2.000000</td>\n",
       "      <td>3.000000</td>\n",
       "    </tr>\n",
       "    <tr>\n",
       "      <th>50%</th>\n",
       "      <td>2.133884e+09</td>\n",
       "      <td>6.000000</td>\n",
       "      <td>5.000000</td>\n",
       "      <td>12.500000</td>\n",
       "      <td>3.000000</td>\n",
       "      <td>6.000000</td>\n",
       "    </tr>\n",
       "    <tr>\n",
       "      <th>75%</th>\n",
       "      <td>2.286076e+09</td>\n",
       "      <td>12.000000</td>\n",
       "      <td>5.000000</td>\n",
       "      <td>20.000000</td>\n",
       "      <td>6.000000</td>\n",
       "      <td>6.000000</td>\n",
       "    </tr>\n",
       "    <tr>\n",
       "      <th>max</th>\n",
       "      <td>2.908001e+09</td>\n",
       "      <td>163.000000</td>\n",
       "      <td>5.000000</td>\n",
       "      <td>131.000000</td>\n",
       "      <td>930.000000</td>\n",
       "      <td>6.000000</td>\n",
       "    </tr>\n",
       "  </tbody>\n",
       "</table>\n",
       "</div>"
      ],
      "text/plain": [
       "             author       hindex     nb_paper  mean_coauthors_hindex  \\\n",
       "count  9.796000e+03  9796.000000  9796.000000            9796.000000   \n",
       "mean   1.993336e+09     9.841160     3.977338              15.514139   \n",
       "std    6.393600e+08    12.055575     1.323559              11.152517   \n",
       "min    1.139156e+07     1.000000     1.000000               1.000000   \n",
       "25%    2.019859e+09     3.000000     3.000000               8.000000   \n",
       "50%    2.133884e+09     6.000000     5.000000              12.500000   \n",
       "75%    2.286076e+09    12.000000     5.000000              20.000000   \n",
       "max    2.908001e+09   163.000000     5.000000             131.000000   \n",
       "\n",
       "       n_coauthors      modindx  \n",
       "count  9796.000000  9796.000000  \n",
       "mean      9.563699     4.386178  \n",
       "std      39.555898     1.890577  \n",
       "min       0.000000     1.000000  \n",
       "25%       2.000000     3.000000  \n",
       "50%       3.000000     6.000000  \n",
       "75%       6.000000     6.000000  \n",
       "max     930.000000     6.000000  "
      ]
     },
     "execution_count": 5,
     "metadata": {},
     "output_type": "execute_result"
    }
   ],
   "source": [
    "data.describe()"
   ]
  },
  {
   "cell_type": "code",
   "execution_count": 6,
   "metadata": {},
   "outputs": [
    {
     "data": {
      "image/png": "[encoded data removed]",
      "text/plain": [
       "<Figure size 720x360 with 2 Axes>"
      ]
     },
     "metadata": {
      "needs_background": "light"
     },
     "output_type": "display_data"
    }
   ],
   "source": [
    "train1,test1 = train_test_split(data,random_state=1)\n",
    "plt.figure(figsize=(10,5))\n",
    "plt.subplot(1,2,1).hist(train1['hindex_lab'])\n",
    "plt.subplot(1,2,2).hist(test1['hindex_lab']);"
   ]
  },
  {
   "cell_type": "code",
   "execution_count": 7,
   "metadata": {},
   "outputs": [],
   "source": [
    "train_path = \"../tmp/train.txt\"\n",
    "test_path = \"../tmp/test.txt\"\n",
    "\n",
    "df_to_txt(train1,train_path)\n",
    "df_to_txt(test1,test_path)"
   ]
  },
  {
   "cell_type": "markdown",
   "metadata": {},
   "source": [
    "### Utilisation de Fast text"
   ]
  },
  {
   "cell_type": "code",
   "execution_count": 8,
   "metadata": {},
   "outputs": [
    {
     "name": "stderr",
     "output_type": "stream",
     "text": [
      "Read 4M words\n",
      "Number of words:  68513\n",
      "Number of labels: 6\n",
      "Progress: 100.0% words/sec/thread: 4794808 lr:  0.000000 avg.loss:  1.442847 ETA:   0h 0m 0s\n"
     ]
    }
   ],
   "source": [
    "model0 = fasttext.train_supervised(train_path)"
   ]
  },
  {
   "cell_type": "code",
   "execution_count": 9,
   "metadata": {},
   "outputs": [
    {
     "name": "stderr",
     "output_type": "stream",
     "text": [
      "Progress: 100.0% Trials:    9 Best score:  0.569212 ETA:   0h 0m 0s\n",
      "Training again with best arguments\n",
      "Read 4M words\n",
      "Number of words:  68513\n",
      "Number of labels: 6\n",
      "Progress: 100.0% words/sec/thread: 4881640 lr:  0.000000 avg.loss:  1.116733 ETA:   0h 0m 0s\n"
     ]
    }
   ],
   "source": [
    "train_duration = 60 # in seconds\n",
    "model1 = fasttext.train_supervised(train_path, autotuneValidationFile=test_path, autotuneDuration=train_duration)"
   ]
  },
  {
   "cell_type": "code",
   "execution_count": 10,
   "metadata": {},
   "outputs": [
    {
     "data": {
      "text/plain": [
       "(2449, 0.504287464271131, 0.504287464271131)"
      ]
     },
     "execution_count": 10,
     "metadata": {},
     "output_type": "execute_result"
    }
   ],
   "source": [
    "model0.test(test_path)"
   ]
  },
  {
   "cell_type": "code",
   "execution_count": 11,
   "metadata": {},
   "outputs": [
    {
     "data": {
      "text/plain": [
       "(2449, 0.5667619436504696, 0.5667619436504696)"
      ]
     },
     "execution_count": 11,
     "metadata": {},
     "output_type": "execute_result"
    }
   ],
   "source": [
    "model1.test(test_path)"
   ]
  },
  {
   "cell_type": "code",
   "execution_count": 12,
   "metadata": {},
   "outputs": [
    {
     "data": {
      "text/html": [
       "<div>\n",
       "<style scoped>\n",
       "    .dataframe tbody tr th:only-of-type {\n",
       "        vertical-align: middle;\n",
       "    }\n",
       "\n",
       "    .dataframe tbody tr th {\n",
       "        vertical-align: top;\n",
       "    }\n",
       "\n",
       "    .dataframe thead th {\n",
       "        text-align: right;\n",
       "    }\n",
       "</style>\n",
       "<table border=\"1\" class=\"dataframe\">\n",
       "  <thead>\n",
       "    <tr style=\"text-align: right;\">\n",
       "      <th></th>\n",
       "      <th>paramètre</th>\n",
       "      <th>model0</th>\n",
       "      <th>model1</th>\n",
       "    </tr>\n",
       "  </thead>\n",
       "  <tbody>\n",
       "    <tr>\n",
       "      <th>0</th>\n",
       "      <td>hidden layer</td>\n",
       "      <td>100</td>\n",
       "      <td>54</td>\n",
       "    </tr>\n",
       "    <tr>\n",
       "      <th>1</th>\n",
       "      <td>learning rate</td>\n",
       "      <td>0.1</td>\n",
       "      <td>0.078425</td>\n",
       "    </tr>\n",
       "    <tr>\n",
       "      <th>2</th>\n",
       "      <td>epoch</td>\n",
       "      <td>5</td>\n",
       "      <td>39</td>\n",
       "    </tr>\n",
       "    <tr>\n",
       "      <th>3</th>\n",
       "      <td>loss</td>\n",
       "      <td>loss_name.softmax</td>\n",
       "      <td>loss_name.softmax</td>\n",
       "    </tr>\n",
       "  </tbody>\n",
       "</table>\n",
       "</div>"
      ],
      "text/plain": [
       "       paramètre             model0             model1\n",
       "0   hidden layer                100                 54\n",
       "1  learning rate                0.1           0.078425\n",
       "2          epoch                  5                 39\n",
       "3           loss  loss_name.softmax  loss_name.softmax"
      ]
     },
     "execution_count": 12,
     "metadata": {},
     "output_type": "execute_result"
    }
   ],
   "source": [
    "comp = pd.DataFrame({'paramètre':['hidden layer','learning rate','epoch','loss'],'model0':[model0.dim,model0.lr,model0.epoch,model0.loss],'model1':[model1.dim,model1.lr,model1.epoch,model1.loss]})\n",
    "comp"
   ]
  },
  {
   "cell_type": "code",
   "execution_count": 13,
   "metadata": {},
   "outputs": [
    {
     "data": {
      "text/html": [
       "<div>\n",
       "<style scoped>\n",
       "    .dataframe tbody tr th:only-of-type {\n",
       "        vertical-align: middle;\n",
       "    }\n",
       "\n",
       "    .dataframe tbody tr th {\n",
       "        vertical-align: top;\n",
       "    }\n",
       "\n",
       "    .dataframe thead th {\n",
       "        text-align: right;\n",
       "    }\n",
       "</style>\n",
       "<table border=\"1\" class=\"dataframe\">\n",
       "  <thead>\n",
       "    <tr style=\"text-align: right;\">\n",
       "      <th></th>\n",
       "      <th>test_pred_lab</th>\n",
       "      <th>test_pred_prob</th>\n",
       "      <th>author</th>\n",
       "      <th>hindex</th>\n",
       "      <th>text</th>\n",
       "      <th>nb_paper</th>\n",
       "      <th>mean_coauthors_hindex</th>\n",
       "      <th>n_coauthors</th>\n",
       "      <th>modindx</th>\n",
       "      <th>hindex_lab</th>\n",
       "    </tr>\n",
       "  </thead>\n",
       "  <tbody>\n",
       "    <tr>\n",
       "      <th>0</th>\n",
       "      <td>__label__6.0</td>\n",
       "      <td>0.958925</td>\n",
       "      <td>2396441528</td>\n",
       "      <td>1.0</td>\n",
       "      <td>temporal and spatial localities are basic conc...</td>\n",
       "      <td>2</td>\n",
       "      <td>6.500000</td>\n",
       "      <td>2</td>\n",
       "      <td>1.0</td>\n",
       "      <td>__label__1.0</td>\n",
       "    </tr>\n",
       "    <tr>\n",
       "      <th>4</th>\n",
       "      <td>__label__2.0</td>\n",
       "      <td>0.246948</td>\n",
       "      <td>2308460797</td>\n",
       "      <td>4.0</td>\n",
       "      <td>the internet of things iot represents the curr...</td>\n",
       "      <td>5</td>\n",
       "      <td>16.000000</td>\n",
       "      <td>2</td>\n",
       "      <td>4.0</td>\n",
       "      <td>__label__4.0</td>\n",
       "    </tr>\n",
       "    <tr>\n",
       "      <th>6</th>\n",
       "      <td>__label__2.0</td>\n",
       "      <td>0.271152</td>\n",
       "      <td>2799533387</td>\n",
       "      <td>1.0</td>\n",
       "      <td>castellanii ac are ubiquitously distributed in...</td>\n",
       "      <td>2</td>\n",
       "      <td>7.500000</td>\n",
       "      <td>2</td>\n",
       "      <td>1.0</td>\n",
       "      <td>__label__1.0</td>\n",
       "    </tr>\n",
       "    <tr>\n",
       "      <th>10</th>\n",
       "      <td>__label__1.0</td>\n",
       "      <td>0.608549</td>\n",
       "      <td>2097906641</td>\n",
       "      <td>2.0</td>\n",
       "      <td>this manual describes prolog system developed ...</td>\n",
       "      <td>2</td>\n",
       "      <td>4.000000</td>\n",
       "      <td>1</td>\n",
       "      <td>2.0</td>\n",
       "      <td>__label__2.0</td>\n",
       "    </tr>\n",
       "    <tr>\n",
       "      <th>13</th>\n",
       "      <td>__label__2.0</td>\n",
       "      <td>0.239596</td>\n",
       "      <td>2302754731</td>\n",
       "      <td>7.0</td>\n",
       "      <td>much research in the last few years has been d...</td>\n",
       "      <td>5</td>\n",
       "      <td>7.166667</td>\n",
       "      <td>6</td>\n",
       "      <td>6.0</td>\n",
       "      <td>__label__6.0</td>\n",
       "    </tr>\n",
       "  </tbody>\n",
       "</table>\n",
       "</div>"
      ],
      "text/plain": [
       "   test_pred_lab  test_pred_prob      author  hindex  \\\n",
       "0   __label__6.0        0.958925  2396441528     1.0   \n",
       "4   __label__2.0        0.246948  2308460797     4.0   \n",
       "6   __label__2.0        0.271152  2799533387     1.0   \n",
       "10  __label__1.0        0.608549  2097906641     2.0   \n",
       "13  __label__2.0        0.239596  2302754731     7.0   \n",
       "\n",
       "                                                 text  nb_paper  \\\n",
       "0   temporal and spatial localities are basic conc...         2   \n",
       "4   the internet of things iot represents the curr...         5   \n",
       "6   castellanii ac are ubiquitously distributed in...         2   \n",
       "10  this manual describes prolog system developed ...         2   \n",
       "13  much research in the last few years has been d...         5   \n",
       "\n",
       "    mean_coauthors_hindex  n_coauthors  modindx    hindex_lab  \n",
       "0                6.500000            2      1.0  __label__1.0  \n",
       "4               16.000000            2      4.0  __label__4.0  \n",
       "6                7.500000            2      1.0  __label__1.0  \n",
       "10               4.000000            1      2.0  __label__2.0  \n",
       "13               7.166667            6      6.0  __label__6.0  "
      ]
     },
     "execution_count": 13,
     "metadata": {},
     "output_type": "execute_result"
    }
   ],
   "source": [
    "comp =general_comp(model1,test1)\n",
    "comp.head()"
   ]
  },
  {
   "cell_type": "markdown",
   "metadata": {},
   "source": [
    "**exploitation de model**"
   ]
  },
  {
   "cell_type": "code",
   "execution_count": 14,
   "metadata": {},
   "outputs": [
    {
     "name": "stdout",
     "output_type": "stream",
     "text": [
      "[0.22729461 0.24693842 0.08981353 0.19427438 0.13726646 0.10441248]\n"
     ]
    },
    {
     "data": {
      "text/plain": [
       "(('__label__2.0',\n",
       "  '__label__6.0',\n",
       "  '__label__3.0',\n",
       "  '__label__4.0',\n",
       "  '__label__5.0',\n",
       "  '__label__1.0'),\n",
       " array([0.24694842, 0.22730467, 0.19428441, 0.1372765 , 0.10442249,\n",
       "        0.08982355]))"
      ]
     },
     "execution_count": 14,
     "metadata": {},
     "output_type": "execute_result"
    }
   ],
   "source": [
    "from scipy.special import softmax\n",
    "dictionnaire = model1.get_words()\n",
    "model1.get_word_id(\"hello\")\n",
    "len(dictionnaire)\n",
    "A = model1.get_input_matrix()\n",
    "B = model1.get_output_matrix()\n",
    "repthe = model1.get_sentence_vector(comp.iloc[1,4])\n",
    "softthe = repthe@B.T\n",
    "print(softmax(softthe))\n",
    "model1.predict(comp.iloc[1,4],k=6)"
   ]
  },
  {
   "cell_type": "markdown",
   "metadata": {},
   "source": [
    "On est sur que le modèle applique softmax sur la représentation du mot. Nous ou choisit donc d'appliquer un autre régresseur"
   ]
  },
  {
   "cell_type": "markdown",
   "metadata": {},
   "source": [
    "**Data for multiple regression model**"
   ]
  },
  {
   "cell_type": "code",
   "execution_count": 15,
   "metadata": {},
   "outputs": [],
   "source": [
    "def reg_data(train, test):\n",
    "    X_train = np.zeros((train.shape[0], model1.dim))\n",
    "    set_rep = train[\"text\"].apply(lambda x: model1.get_sentence_vector(x))\n",
    "    X_train = np.array(set_rep.to_list())\n",
    "    nb_train = np.array(train[\"nb_paper\"].to_list()).reshape(-1, 1)\n",
    "    coauthors_hindex_train = np.array(train[\"mean_coauthors_hindex\"].to_list()).reshape(-1, 1)\n",
    "    n_coauthors_train = np.array(train[\"n_coauthors\"].to_list()).reshape(-1, 1)\n",
    "    X_train = np.concatenate((X_train, nb_train, coauthors_hindex_train, n_coauthors_train), axis=1)\n",
    "    # X_train = np.concatenate((X_train, nb_train), axis=1)\n",
    "\n",
    "    X_test = np.zeros((test.shape[0], model1.dim))\n",
    "    set_rep = test[\"text\"].apply(lambda x: model1.get_sentence_vector(x))\n",
    "    X_test = np.array(set_rep.to_list())\n",
    "    nb_test = np.array(test[\"nb_paper\"].to_list()).reshape(-1, 1)\n",
    "    coauthors_hindex_test = np.array(test[\"mean_coauthors_hindex\"].to_list()).reshape(-1, 1)\n",
    "    n_coauthors_test = np.array(test[\"n_coauthors\"].to_list()).reshape(-1, 1)\n",
    "    X_test = np.concatenate((X_test, nb_test, coauthors_hindex_test, n_coauthors_test), axis=1)\n",
    "    # X_test = np.concatenate((X_test, nb_test), axis=1)\n",
    "\n",
    "    y_train = np.array(train[\"hindex\"].to_list())\n",
    "    y_test = np.array(test[\"hindex\"].to_list())\n",
    "    return X_train, X_test, y_train, y_test\n"
   ]
  },
  {
   "cell_type": "code",
   "execution_count": 31,
   "metadata": {},
   "outputs": [],
   "source": [
    "X_train,X_test,y_train,y_test = reg_data(train1,test1)"
   ]
  },
  {
   "cell_type": "markdown",
   "metadata": {},
   "source": [
    "**Random forest**"
   ]
  },
  {
   "cell_type": "code",
   "execution_count": 17,
   "metadata": {},
   "outputs": [
    {
     "name": "stdout",
     "output_type": "stream",
     "text": [
      "(7347, 57)\n",
      "(2449, 57)\n"
     ]
    }
   ],
   "source": [
    "print(X_train.shape)\n",
    "print(X_test.shape)"
   ]
  },
  {
   "cell_type": "code",
   "execution_count": 32,
   "metadata": {},
   "outputs": [
    {
     "data": {
      "text/plain": [
       "RandomForestRegressor(random_state=1)"
      ]
     },
     "execution_count": 32,
     "metadata": {},
     "output_type": "execute_result"
    }
   ],
   "source": [
    "from sklearn.ensemble import RandomForestRegressor\n",
    "from sklearn.metrics import mean_squared_error\n",
    "\n",
    "forest_model = RandomForestRegressor(random_state=1)\n",
    "forest_model.fit(X_train,y_train)"
   ]
  },
  {
   "cell_type": "code",
   "execution_count": 33,
   "metadata": {},
   "outputs": [],
   "source": [
    "mod_preds = forest_model.predict(X_test)"
   ]
  },
  {
   "cell_type": "code",
   "execution_count": 34,
   "metadata": {},
   "outputs": [
    {
     "data": {
      "text/plain": [
       "84.12852196815027"
      ]
     },
     "execution_count": 34,
     "metadata": {},
     "output_type": "execute_result"
    }
   ],
   "source": [
    "mean_squared_error(y_test,mod_preds)"
   ]
  },
  {
   "cell_type": "markdown",
   "metadata": {},
   "source": []
  },
  {
   "cell_type": "code",
   "execution_count": 21,
   "metadata": {},
   "outputs": [
    {
     "data": {
      "text/plain": [
       "160.0"
      ]
     },
     "execution_count": 21,
     "metadata": {},
     "output_type": "execute_result"
    }
   ],
   "source": [
    "y_train.max()"
   ]
  },
  {
   "cell_type": "markdown",
   "metadata": {},
   "source": [
    "**test svm**"
   ]
  },
  {
   "cell_type": "code",
   "execution_count": 22,
   "metadata": {},
   "outputs": [],
   "source": [
    "from sklearn.svm import SVC\n",
    "\n",
    "model_svm =SVC(kernel='sigmoid', C=2)"
   ]
  },
  {
   "cell_type": "code",
   "execution_count": 23,
   "metadata": {},
   "outputs": [
    {
     "data": {
      "text/plain": [
       "SVC(C=2, kernel='sigmoid')"
      ]
     },
     "execution_count": 23,
     "metadata": {},
     "output_type": "execute_result"
    }
   ],
   "source": [
    "model_svm.fit(X_train,y_train)"
   ]
  },
  {
   "cell_type": "code",
   "execution_count": 24,
   "metadata": {},
   "outputs": [],
   "source": [
    "svm_pred = model_svm.predict(X_test)"
   ]
  },
  {
   "cell_type": "code",
   "execution_count": 25,
   "metadata": {},
   "outputs": [
    {
     "data": {
      "text/plain": [
       "138.69211923233973"
      ]
     },
     "execution_count": 25,
     "metadata": {},
     "output_type": "execute_result"
    }
   ],
   "source": [
    "mean_squared_error(y_test,svm_pred)"
   ]
  },
  {
   "cell_type": "markdown",
   "metadata": {},
   "source": [
    "**Test CNN**"
   ]
  },
  {
   "cell_type": "code",
   "execution_count": 26,
   "metadata": {},
   "outputs": [],
   "source": [
    "# mlp = MLP"
   ]
  }
 ],
 "metadata": {
  "interpreter": {
   "hash": "f80d8b31525b6ea3adcf22249f5b1a58cdfe6d9f8b553721dcb1dc5ebfc8b9f9"
  },
  "kernelspec": {
   "display_name": "Python 3.8.8 64-bit ('base': conda)",
   "language": "python",
   "name": "python3"
  },
  "language_info": {
   "codemirror_mode": {
    "name": "ipython",
    "version": 3
   },
   "file_extension": ".py",
   "mimetype": "text/x-python",
   "name": "python",
   "nbconvert_exporter": "python",
   "pygments_lexer": "ipython3",
   "version": "3.9.7"
  },
  "orig_nbformat": 4
 },
 "nbformat": 4,
 "nbformat_minor": 2
}
