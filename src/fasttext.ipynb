{
 "cells": [
  {
   "cell_type": "markdown",
   "metadata": {},
   "source": [
    "### Analyse et comprehension des fichiers"
   ]
  },
  {
   "cell_type": "code",
   "execution_count": 1,
   "metadata": {},
   "outputs": [],
   "source": [
    "import matplotlib.pyplot as plt\n",
    "from read_data import *\n",
    "from utils import *\n",
    "from fasttext_utils import *\n",
    "from sklearn.model_selection import train_test_split\n",
    "from sklearn.ensemble import RandomForestRegressor\n",
    "from sklearn.metrics import mean_squared_error\n",
    "from xgboost import XGBRegressor\n",
    "from sklearn.model_selection import GridSearchCV"
   ]
  },
  {
   "cell_type": "code",
   "execution_count": 4,
   "metadata": {},
   "outputs": [
    {
     "name": "stdout",
     "output_type": "stream",
     "text": [
      "Starting train columns : ['author', 'hindex', 'text', 'nb_paper', 'core_number', 'pagerank', 'n_coauthors_with_hindex', 'authority', 'clustering_coef', 'modindx', 'hindex_lab', 'vector_coord_0', 'vector_coord_1', 'n_neighbors_dist_1', 'min_neighbors_dist_1', 'mean_neighbors_dist_1', 'max_neighbors_dist_1', 'n_neighbors_dist_2', 'min_neighbors_dist_2', 'mean_neighbors_dist_2', 'max_neighbors_dist_2']\n",
      "Starting test columns : ['author', 'hindex', 'text', 'nb_paper', 'core_number', 'pagerank', 'n_coauthors_with_hindex', 'authority', 'clustering_coef', 'vector_coord_0', 'vector_coord_1', 'n_neighbors_dist_1', 'min_neighbors_dist_1', 'mean_neighbors_dist_1', 'max_neighbors_dist_1', 'n_neighbors_dist_2', 'min_neighbors_dist_2', 'mean_neighbors_dist_2', 'max_neighbors_dist_2']\n",
      "Add neighborhood info to train\n"
     ]
    },
    {
     "name": "stderr",
     "output_type": "stream",
     "text": [
      "100%|██████████| 174241/174241 [07:42<00:00, 376.57it/s] \n"
     ]
    },
    {
     "name": "stdout",
     "output_type": "stream",
     "text": [
      "174241\n",
      "174241\n",
      "Add neighborhood info to test\n"
     ]
    },
    {
     "name": "stderr",
     "output_type": "stream",
     "text": [
      "100%|██████████| 43560/43560 [02:12<00:00, 328.60it/s]\n"
     ]
    },
    {
     "name": "stdout",
     "output_type": "stream",
     "text": [
      "43560\n",
      "43560\n",
      "Ending train columns : ['author', 'hindex', 'text', 'nb_paper', 'core_number', 'pagerank', 'n_coauthors_with_hindex', 'authority', 'clustering_coef', 'modindx', 'hindex_lab', 'vector_coord_0', 'vector_coord_1', 'n_neighbors_dist_1_x', 'min_neighbors_dist_1_x', 'mean_neighbors_dist_1_x', 'max_neighbors_dist_1_x', 'n_neighbors_dist_2_x', 'min_neighbors_dist_2_x', 'mean_neighbors_dist_2_x', 'max_neighbors_dist_2_x', 'n_neighbors_dist_1_y', 'min_neighbors_dist_1_y', 'mean_neighbors_dist_1_y', 'max_neighbors_dist_1_y', 'n_neighbors_dist_2_y', 'min_neighbors_dist_2_y', 'mean_neighbors_dist_2_y', 'max_neighbors_dist_2_y', 'n_neighbors_dist_3', 'min_neighbors_dist_3', 'mean_neighbors_dist_3', 'max_neighbors_dist_3']\n",
      "Ending test columns : ['author', 'hindex', 'text', 'nb_paper', 'core_number', 'pagerank', 'n_coauthors_with_hindex', 'authority', 'clustering_coef', 'vector_coord_0', 'vector_coord_1', 'n_neighbors_dist_1_x', 'min_neighbors_dist_1_x', 'mean_neighbors_dist_1_x', 'max_neighbors_dist_1_x', 'n_neighbors_dist_2_x', 'min_neighbors_dist_2_x', 'mean_neighbors_dist_2_x', 'max_neighbors_dist_2_x', 'n_neighbors_dist_1_y', 'min_neighbors_dist_1_y', 'mean_neighbors_dist_1_y', 'max_neighbors_dist_1_y', 'n_neighbors_dist_2_y', 'min_neighbors_dist_2_y', 'mean_neighbors_dist_2_y', 'max_neighbors_dist_2_y', 'n_neighbors_dist_3', 'min_neighbors_dist_3', 'mean_neighbors_dist_3', 'max_neighbors_dist_3']\n"
     ]
    }
   ],
   "source": [
    "store_full_dataset_with_features(from_scratch=False, vectorize=False, neighborhood_level=3)"
   ]
  },
  {
   "cell_type": "code",
   "execution_count": 3,
   "metadata": {},
   "outputs": [],
   "source": [
    "train, test = get_processed_data()"
   ]
  },
  {
   "cell_type": "markdown",
   "metadata": {},
   "source": [
    "**Data for multiple regression model**"
   ]
  },
  {
   "cell_type": "code",
   "execution_count": 5,
   "metadata": {},
   "outputs": [],
   "source": [
    "X_train, y_train, X_test, y_test = get_numpy_data(n=174241)"
   ]
  },
  {
   "cell_type": "code",
   "execution_count": 6,
   "metadata": {},
   "outputs": [],
   "source": [
    "X_train_norm, X_test_norm = normalize(X_train, X_test)"
   ]
  },
  {
   "cell_type": "markdown",
   "metadata": {},
   "source": [
    "**Random forest**"
   ]
  },
  {
   "cell_type": "code",
   "execution_count": 11,
   "metadata": {},
   "outputs": [
    {
     "data": {
      "text/plain": [
       "52.14893419442021"
      ]
     },
     "execution_count": 11,
     "metadata": {},
     "output_type": "execute_result"
    }
   ],
   "source": [
    "model_forest = RandomForestRegressor()\n",
    "model_forest.fit(X_train_norm,y_train)\n",
    "mod_preds = model_forest.predict(X_test_norm)\n",
    "mean_squared_error(y_test,mod_preds)\n"
   ]
  },
  {
   "cell_type": "markdown",
   "metadata": {},
   "source": [
    "**XG_BOOST**"
   ]
  },
  {
   "cell_type": "code",
   "execution_count": 7,
   "metadata": {},
   "outputs": [
    {
     "name": "stdout",
     "output_type": "stream",
     "text": [
      "[12:59:36] WARNING: ../src/objective/regression_obj.cu:188: reg:linear is now deprecated in favor of reg:squarederror.\n"
     ]
    },
    {
     "data": {
      "text/plain": [
       "54.62003435630262"
      ]
     },
     "execution_count": 7,
     "metadata": {},
     "output_type": "execute_result"
    }
   ],
   "source": [
    "model_xg = XGBRegressor(learning_rate=0.01, max_depth=5, objective=\"reg:linear\", subsample=0.7, n_estimators=500)\n",
    "model_xg.fit(X_train_norm,y_train)\n",
    "mod_preds = model_xg.predict(X_test_norm)\n",
    "mean_squared_error(y_test,mod_preds)"
   ]
  },
  {
   "cell_type": "markdown",
   "metadata": {},
   "source": [
    "### CATBOOST"
   ]
  },
  {
   "cell_type": "code",
   "execution_count": 7,
   "metadata": {},
   "outputs": [
    {
     "data": {
      "text/plain": [
       "47.685452522870335"
      ]
     },
     "execution_count": 7,
     "metadata": {},
     "output_type": "execute_result"
    }
   ],
   "source": [
    "from catboost import CatBoostRegressor\n",
    "model_cat = CatBoostRegressor(verbose=False)\n",
    "model_cat.fit(X_train_norm, y_train)\n",
    "mod_preds = model_cat.predict(X_test_norm)\n",
    "mean_squared_error(y_test,mod_preds)"
   ]
  },
  {
   "cell_type": "markdown",
   "metadata": {},
   "source": [
    "# Soumission"
   ]
  },
  {
   "cell_type": "code",
   "execution_count": 9,
   "metadata": {},
   "outputs": [
    {
     "name": "stdout",
     "output_type": "stream",
     "text": [
      "(174241, 16)\n",
      "(43560, 16)\n"
     ]
    }
   ],
   "source": [
    "from submit import submit\n",
    "from xgboost import XGBRegressor\n",
    "from sklearn.ensemble import RandomForestRegressor\n",
    "from catboost import CatBoostRegressor\n",
    "\n",
    "model_cat = CatBoostRegressor(verbose=False)\n",
    "model_forest = RandomForestRegressor()\n",
    "model_xg = XGBRegressor(learning_rate=0.01, max_depth=5, objective=\"reg:linear\", subsample=0.7, n_estimators=500)\n",
    "submit(model_cat)"
   ]
  }
 ],
 "metadata": {
  "interpreter": {
   "hash": "f80d8b31525b6ea3adcf22249f5b1a58cdfe6d9f8b553721dcb1dc5ebfc8b9f9"
  },
  "kernelspec": {
   "display_name": "Python 3.8.8 64-bit ('base': conda)",
   "language": "python",
   "name": "python3"
  },
  "language_info": {
   "codemirror_mode": {
    "name": "ipython",
    "version": 3
   },
   "file_extension": ".py",
   "mimetype": "text/x-python",
   "name": "python",
   "nbconvert_exporter": "python",
   "pygments_lexer": "ipython3",
   "version": "3.9.7"
  },
  "orig_nbformat": 4
 },
 "nbformat": 4,
 "nbformat_minor": 2
}
