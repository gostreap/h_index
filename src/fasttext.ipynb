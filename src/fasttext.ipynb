{
 "cells": [
  {
   "cell_type": "markdown",
   "metadata": {},
   "source": [
    "### Analyse et comprehension des fichiers"
   ]
  },
  {
   "cell_type": "code",
   "execution_count": 1,
   "metadata": {},
   "outputs": [],
   "source": [
    "import matplotlib.pyplot as plt\n",
    "from read_data import *\n",
    "from utils import *\n",
    "from fasttext_utils import *\n",
    "from sklearn.model_selection import train_test_split\n",
    "import fasttext"
   ]
  },
  {
   "cell_type": "markdown",
   "metadata": {},
   "source": [
    "**distribution des données**"
   ]
  },
  {
   "cell_type": "code",
   "execution_count": 2,
   "metadata": {},
   "outputs": [],
   "source": [
    "train,n_train = get_train_data()\n",
    "test,n_test = get_test_data()"
   ]
  },
  {
   "cell_type": "code",
   "execution_count": 3,
   "metadata": {},
   "outputs": [
    {
     "data": {
      "image/png": "[encoded data removed]",
      "text/plain": [
       "<Figure size 720x360 with 1 Axes>"
      ]
     },
     "metadata": {
      "needs_background": "light"
     },
     "output_type": "display_data"
    }
   ],
   "source": [
    "plt.figure(figsize=(10,5))\n",
    "plt.hist(x=train['hindex'],bins=187);"
   ]
  },
  {
   "cell_type": "markdown",
   "metadata": {},
   "source": [
    "**selection of sub-dataset with same distribution than the original**"
   ]
  },
  {
   "cell_type": "markdown",
   "metadata": {},
   "source": [
    "**Tout le dataset (Préalablement enregistré en csv)**"
   ]
  },
  {
   "cell_type": "code",
   "execution_count": 4,
   "metadata": {},
   "outputs": [
    {
     "name": "stdout",
     "output_type": "stream",
     "text": [
      "10000\n",
      "20000\n",
      "30000\n",
      "40000\n",
      "50000\n",
      "60000\n",
      "70000\n",
      "80000\n",
      "90000\n",
      "100000\n",
      "110000\n",
      "120000\n",
      "130000\n",
      "140000\n",
      "150000\n",
      "160000\n",
      "170000\n",
      "174242\n"
     ]
    }
   ],
   "source": [
    "# store_whole_dataset(train) # si tu n'as pas encore tout le dataset en local"
   ]
  },
  {
   "cell_type": "code",
   "execution_count": 4,
   "metadata": {},
   "outputs": [
    {
     "data": {
      "text/html": [
       "<div>\n",
       "<style scoped>\n",
       "    .dataframe tbody tr th:only-of-type {\n",
       "        vertical-align: middle;\n",
       "    }\n",
       "\n",
       "    .dataframe tbody tr th {\n",
       "        vertical-align: top;\n",
       "    }\n",
       "\n",
       "    .dataframe thead th {\n",
       "        text-align: right;\n",
       "    }\n",
       "</style>\n",
       "<table border=\"1\" class=\"dataframe\">\n",
       "  <thead>\n",
       "    <tr style=\"text-align: right;\">\n",
       "      <th></th>\n",
       "      <th>author</th>\n",
       "      <th>hindex</th>\n",
       "      <th>text</th>\n",
       "      <th>nb_paper</th>\n",
       "      <th>mean_coauthors_hindex</th>\n",
       "      <th>n_coauthors</th>\n",
       "      <th>modindx</th>\n",
       "      <th>hindex_lab</th>\n",
       "    </tr>\n",
       "  </thead>\n",
       "  <tbody>\n",
       "    <tr>\n",
       "      <th>0</th>\n",
       "      <td>1964267543</td>\n",
       "      <td>4.0</td>\n",
       "      <td>contextual proximity detection or co presence ...</td>\n",
       "      <td>5</td>\n",
       "      <td>21.800000</td>\n",
       "      <td>5</td>\n",
       "      <td>0</td>\n",
       "      <td>__label__0</td>\n",
       "    </tr>\n",
       "    <tr>\n",
       "      <th>1</th>\n",
       "      <td>2153592714</td>\n",
       "      <td>13.0</td>\n",
       "      <td>motorola seamless mobility solution is one spe...</td>\n",
       "      <td>5</td>\n",
       "      <td>20.000000</td>\n",
       "      <td>1</td>\n",
       "      <td>4</td>\n",
       "      <td>__label__4</td>\n",
       "    </tr>\n",
       "    <tr>\n",
       "      <th>2</th>\n",
       "      <td>217158525</td>\n",
       "      <td>8.0</td>\n",
       "      <td>traditional software development approaches do...</td>\n",
       "      <td>5</td>\n",
       "      <td>2.000000</td>\n",
       "      <td>1</td>\n",
       "      <td>4</td>\n",
       "      <td>__label__4</td>\n",
       "    </tr>\n",
       "    <tr>\n",
       "      <th>3</th>\n",
       "      <td>2123103677</td>\n",
       "      <td>11.0</td>\n",
       "      <td>we describe the results of developing the gems...</td>\n",
       "      <td>3</td>\n",
       "      <td>11.833333</td>\n",
       "      <td>6</td>\n",
       "      <td>4</td>\n",
       "      <td>__label__4</td>\n",
       "    </tr>\n",
       "    <tr>\n",
       "      <th>4</th>\n",
       "      <td>2067710487</td>\n",
       "      <td>3.0</td>\n",
       "      <td>social software shows fascinating range of usa...</td>\n",
       "      <td>2</td>\n",
       "      <td>9.841160</td>\n",
       "      <td>0</td>\n",
       "      <td>0</td>\n",
       "      <td>__label__0</td>\n",
       "    </tr>\n",
       "  </tbody>\n",
       "</table>\n",
       "</div>"
      ],
      "text/plain": [
       "       author  hindex                                               text  \\\n",
       "0  1964267543     4.0  contextual proximity detection or co presence ...   \n",
       "1  2153592714    13.0  motorola seamless mobility solution is one spe...   \n",
       "2   217158525     8.0  traditional software development approaches do...   \n",
       "3  2123103677    11.0  we describe the results of developing the gems...   \n",
       "4  2067710487     3.0  social software shows fascinating range of usa...   \n",
       "\n",
       "   nb_paper  mean_coauthors_hindex  n_coauthors  modindx  hindex_lab  \n",
       "0         5              21.800000            5        0  __label__0  \n",
       "1         5              20.000000            1        4  __label__4  \n",
       "2         5               2.000000            1        4  __label__4  \n",
       "3         3              11.833333            6        4  __label__4  \n",
       "4         2               9.841160            0        0  __label__0  "
      ]
     },
     "execution_count": 4,
     "metadata": {},
     "output_type": "execute_result"
    }
   ],
   "source": [
    "# l =[]\n",
    "# for i in range (18):\n",
    "#     l.append(pd.read_csv(\"../tmp/data_part\"+str(i+1)+\".csv\"))\n",
    "\n",
    "# data = pd.concat(l)\n",
    "# data = small_class(data, 6)\n",
    "# data.head()"
   ]
  },
  {
   "cell_type": "markdown",
   "metadata": {},
   "source": [
    "**Juste 10000 données**"
   ]
  },
  {
   "cell_type": "code",
   "execution_count": 3,
   "metadata": {},
   "outputs": [
    {
     "data": {
      "text/html": [
       "<div>\n",
       "<style scoped>\n",
       "    .dataframe tbody tr th:only-of-type {\n",
       "        vertical-align: middle;\n",
       "    }\n",
       "\n",
       "    .dataframe tbody tr th {\n",
       "        vertical-align: top;\n",
       "    }\n",
       "\n",
       "    .dataframe thead th {\n",
       "        text-align: right;\n",
       "    }\n",
       "</style>\n",
       "<table border=\"1\" class=\"dataframe\">\n",
       "  <thead>\n",
       "    <tr style=\"text-align: right;\">\n",
       "      <th></th>\n",
       "      <th>author</th>\n",
       "      <th>hindex</th>\n",
       "      <th>text</th>\n",
       "      <th>nb_paper</th>\n",
       "      <th>mean_coauthors_hindex</th>\n",
       "      <th>n_coauthors</th>\n",
       "      <th>modindx</th>\n",
       "      <th>hindex_lab</th>\n",
       "    </tr>\n",
       "  </thead>\n",
       "  <tbody>\n",
       "    <tr>\n",
       "      <th>0</th>\n",
       "      <td>2192797973</td>\n",
       "      <td>15.0</td>\n",
       "      <td>we present newly collected data set of gold st...</td>\n",
       "      <td>5</td>\n",
       "      <td>12.000000</td>\n",
       "      <td>6</td>\n",
       "      <td>0</td>\n",
       "      <td>__label__0</td>\n",
       "    </tr>\n",
       "    <tr>\n",
       "      <th>1</th>\n",
       "      <td>2568812976</td>\n",
       "      <td>4.0</td>\n",
       "      <td>problem to be solved to provide tv system for ...</td>\n",
       "      <td>5</td>\n",
       "      <td>16.500000</td>\n",
       "      <td>2</td>\n",
       "      <td>1</td>\n",
       "      <td>__label__1</td>\n",
       "    </tr>\n",
       "    <tr>\n",
       "      <th>2</th>\n",
       "      <td>2159374572</td>\n",
       "      <td>24.0</td>\n",
       "      <td>this paper presents novel engine coined topx f...</td>\n",
       "      <td>5</td>\n",
       "      <td>16.716981</td>\n",
       "      <td>53</td>\n",
       "      <td>0</td>\n",
       "      <td>__label__0</td>\n",
       "    </tr>\n",
       "    <tr>\n",
       "      <th>3</th>\n",
       "      <td>2745744053</td>\n",
       "      <td>22.0</td>\n",
       "      <td>this paper describes coherent optical orthogon...</td>\n",
       "      <td>5</td>\n",
       "      <td>16.000000</td>\n",
       "      <td>4</td>\n",
       "      <td>0</td>\n",
       "      <td>__label__0</td>\n",
       "    </tr>\n",
       "    <tr>\n",
       "      <th>4</th>\n",
       "      <td>2127692187</td>\n",
       "      <td>18.0</td>\n",
       "      <td>method for real time detection of denial of se...</td>\n",
       "      <td>4</td>\n",
       "      <td>15.666667</td>\n",
       "      <td>3</td>\n",
       "      <td>0</td>\n",
       "      <td>__label__0</td>\n",
       "    </tr>\n",
       "  </tbody>\n",
       "</table>\n",
       "</div>"
      ],
      "text/plain": [
       "       author  hindex                                               text  \\\n",
       "0  2192797973    15.0  we present newly collected data set of gold st...   \n",
       "1  2568812976     4.0  problem to be solved to provide tv system for ...   \n",
       "2  2159374572    24.0  this paper presents novel engine coined topx f...   \n",
       "3  2745744053    22.0  this paper describes coherent optical orthogon...   \n",
       "4  2127692187    18.0  method for real time detection of denial of se...   \n",
       "\n",
       "   nb_paper  mean_coauthors_hindex  n_coauthors  modindx  hindex_lab  \n",
       "0         5              12.000000            6        0  __label__0  \n",
       "1         5              16.500000            2        1  __label__1  \n",
       "2         5              16.716981           53        0  __label__0  \n",
       "3         5              16.000000            4        0  __label__0  \n",
       "4         4              15.666667            3        0  __label__0  "
      ]
     },
     "execution_count": 3,
     "metadata": {},
     "output_type": "execute_result"
    }
   ],
   "source": [
    "data_path = \"../tmp/data_10000.csv\"\n",
    "# data = preprocessing_for_fastText(10000,train)\n",
    "# data.to_csv(data_path,index=None)\n",
    "data = pd.read_csv(data_path)\n",
    "data = small_class(data, 6)\n",
    "data.head()"
   ]
  },
  {
   "cell_type": "code",
   "execution_count": 4,
   "metadata": {},
   "outputs": [
    {
     "data": {
      "text/html": [
       "<div>\n",
       "<style scoped>\n",
       "    .dataframe tbody tr th:only-of-type {\n",
       "        vertical-align: middle;\n",
       "    }\n",
       "\n",
       "    .dataframe tbody tr th {\n",
       "        vertical-align: top;\n",
       "    }\n",
       "\n",
       "    .dataframe thead th {\n",
       "        text-align: right;\n",
       "    }\n",
       "</style>\n",
       "<table border=\"1\" class=\"dataframe\">\n",
       "  <thead>\n",
       "    <tr style=\"text-align: right;\">\n",
       "      <th></th>\n",
       "      <th>author</th>\n",
       "      <th>hindex</th>\n",
       "      <th>nb_paper</th>\n",
       "      <th>mean_coauthors_hindex</th>\n",
       "      <th>n_coauthors</th>\n",
       "      <th>modindx</th>\n",
       "    </tr>\n",
       "  </thead>\n",
       "  <tbody>\n",
       "    <tr>\n",
       "      <th>count</th>\n",
       "      <td>9.796000e+03</td>\n",
       "      <td>9796.000000</td>\n",
       "      <td>9796.000000</td>\n",
       "      <td>9796.000000</td>\n",
       "      <td>9796.000000</td>\n",
       "      <td>9796.000000</td>\n",
       "    </tr>\n",
       "    <tr>\n",
       "      <th>mean</th>\n",
       "      <td>1.993336e+09</td>\n",
       "      <td>9.841160</td>\n",
       "      <td>3.977338</td>\n",
       "      <td>15.514139</td>\n",
       "      <td>9.563699</td>\n",
       "      <td>1.943344</td>\n",
       "    </tr>\n",
       "    <tr>\n",
       "      <th>std</th>\n",
       "      <td>6.393600e+08</td>\n",
       "      <td>12.055575</td>\n",
       "      <td>1.323559</td>\n",
       "      <td>11.152517</td>\n",
       "      <td>39.555898</td>\n",
       "      <td>1.597585</td>\n",
       "    </tr>\n",
       "    <tr>\n",
       "      <th>min</th>\n",
       "      <td>1.139156e+07</td>\n",
       "      <td>1.000000</td>\n",
       "      <td>1.000000</td>\n",
       "      <td>1.000000</td>\n",
       "      <td>0.000000</td>\n",
       "      <td>0.000000</td>\n",
       "    </tr>\n",
       "    <tr>\n",
       "      <th>25%</th>\n",
       "      <td>2.019859e+09</td>\n",
       "      <td>3.000000</td>\n",
       "      <td>3.000000</td>\n",
       "      <td>8.000000</td>\n",
       "      <td>2.000000</td>\n",
       "      <td>1.000000</td>\n",
       "    </tr>\n",
       "    <tr>\n",
       "      <th>50%</th>\n",
       "      <td>2.133884e+09</td>\n",
       "      <td>6.000000</td>\n",
       "      <td>5.000000</td>\n",
       "      <td>12.500000</td>\n",
       "      <td>3.000000</td>\n",
       "      <td>1.000000</td>\n",
       "    </tr>\n",
       "    <tr>\n",
       "      <th>75%</th>\n",
       "      <td>2.286076e+09</td>\n",
       "      <td>12.000000</td>\n",
       "      <td>5.000000</td>\n",
       "      <td>20.000000</td>\n",
       "      <td>6.000000</td>\n",
       "      <td>4.000000</td>\n",
       "    </tr>\n",
       "    <tr>\n",
       "      <th>max</th>\n",
       "      <td>2.908001e+09</td>\n",
       "      <td>163.000000</td>\n",
       "      <td>5.000000</td>\n",
       "      <td>131.000000</td>\n",
       "      <td>930.000000</td>\n",
       "      <td>5.000000</td>\n",
       "    </tr>\n",
       "  </tbody>\n",
       "</table>\n",
       "</div>"
      ],
      "text/plain": [
       "             author       hindex     nb_paper  mean_coauthors_hindex  \\\n",
       "count  9.796000e+03  9796.000000  9796.000000            9796.000000   \n",
       "mean   1.993336e+09     9.841160     3.977338              15.514139   \n",
       "std    6.393600e+08    12.055575     1.323559              11.152517   \n",
       "min    1.139156e+07     1.000000     1.000000               1.000000   \n",
       "25%    2.019859e+09     3.000000     3.000000               8.000000   \n",
       "50%    2.133884e+09     6.000000     5.000000              12.500000   \n",
       "75%    2.286076e+09    12.000000     5.000000              20.000000   \n",
       "max    2.908001e+09   163.000000     5.000000             131.000000   \n",
       "\n",
       "       n_coauthors      modindx  \n",
       "count  9796.000000  9796.000000  \n",
       "mean      9.563699     1.943344  \n",
       "std      39.555898     1.597585  \n",
       "min       0.000000     0.000000  \n",
       "25%       2.000000     1.000000  \n",
       "50%       3.000000     1.000000  \n",
       "75%       6.000000     4.000000  \n",
       "max     930.000000     5.000000  "
      ]
     },
     "execution_count": 4,
     "metadata": {},
     "output_type": "execute_result"
    }
   ],
   "source": [
    "data.describe()"
   ]
  },
  {
   "cell_type": "code",
   "execution_count": 5,
   "metadata": {},
   "outputs": [
    {
     "data": {
      "image/png": "[encoded data removed]",
      "text/plain": [
       "<Figure size 720x360 with 2 Axes>"
      ]
     },
     "metadata": {
      "needs_background": "light"
     },
     "output_type": "display_data"
    }
   ],
   "source": [
    "train1,test1 = train_test_split(data,random_state=1)\n",
    "plt.figure(figsize=(10,5))\n",
    "plt.subplot(1,2,1).hist(train1['hindex_lab'])\n",
    "plt.subplot(1,2,2).hist(test1['hindex_lab']);"
   ]
  },
  {
   "cell_type": "code",
   "execution_count": null,
   "metadata": {},
   "outputs": [],
   "source": []
  },
  {
   "cell_type": "code",
   "execution_count": 6,
   "metadata": {},
   "outputs": [],
   "source": [
    "train_path = \"../tmp/train1.txt\"\n",
    "test_path = \"../tmp/test1.txt\"\n",
    "\n",
    "df_to_txt(train1,train_path)\n",
    "df_to_txt(test1,test_path)"
   ]
  },
  {
   "cell_type": "markdown",
   "metadata": {},
   "source": [
    "### Utilisation de Fast text"
   ]
  },
  {
   "cell_type": "markdown",
   "metadata": {},
   "source": [
    "Les paramètre optimaux ont été optimisés pour 10000 données dans un autre jupyter avec un temps long. Le model 1 nest plus nécessaire!"
   ]
  },
  {
   "cell_type": "code",
   "execution_count": 7,
   "metadata": {},
   "outputs": [
    {
     "name": "stderr",
     "output_type": "stream",
     "text": [
      "Read 4M words\n",
      "Number of words:  68513\n",
      "Number of labels: 6\n",
      "Progress: 100.0% words/sec/thread: 2410425 lr:  0.000000 avg.loss:  0.914776 ETA:   0h 0m 0s\n"
     ]
    }
   ],
   "source": [
    "model0 = fasttext.train_supervised(train_path,lr = 0.626905, dim = 12, epoch = 11, wordNgrams =3)"
   ]
  },
  {
   "cell_type": "code",
   "execution_count": null,
   "metadata": {},
   "outputs": [],
   "source": [
    "# train_duration = 60 # in seconds\n",
    "# model1 = fasttext.train_supervised(train_path, autotuneValidationFile=test_path, autotuneDuration=train_duration)"
   ]
  },
  {
   "cell_type": "code",
   "execution_count": 8,
   "metadata": {},
   "outputs": [
    {
     "data": {
      "text/plain": [
       "(2449, 0.5765618619844834, 0.5765618619844834)"
      ]
     },
     "execution_count": 8,
     "metadata": {},
     "output_type": "execute_result"
    }
   ],
   "source": [
    "model0.test(test_path)"
   ]
  },
  {
   "cell_type": "code",
   "execution_count": null,
   "metadata": {},
   "outputs": [],
   "source": [
    "# model1.test(test_path)"
   ]
  },
  {
   "cell_type": "code",
   "execution_count": null,
   "metadata": {},
   "outputs": [],
   "source": [
    "# comp = pd.DataFrame({'paramètre':['hidden layer','learning rate','epoch','loss'],'model0':[model0.dim,model0.lr,model0.epoch,model0.loss],'model1':[model1.dim,model1.lr,model1.epoch,model1.loss]})\n",
    "# comp"
   ]
  },
  {
   "cell_type": "code",
   "execution_count": null,
   "metadata": {},
   "outputs": [],
   "source": [
    "# comp =general_comp(model1,test1)\n",
    "# comp.head()"
   ]
  },
  {
   "cell_type": "markdown",
   "metadata": {},
   "source": [
    "**exploitation de model**"
   ]
  },
  {
   "cell_type": "markdown",
   "metadata": {},
   "source": [
    "On est sur que le modèle applique softmax sur la représentation du mot. Nous ou choisit donc d'appliquer un autre régresseur"
   ]
  },
  {
   "cell_type": "markdown",
   "metadata": {},
   "source": [
    "**Data for multiple regression model**"
   ]
  },
  {
   "cell_type": "code",
   "execution_count": 9,
   "metadata": {},
   "outputs": [],
   "source": [
    "train_core_number = get_core_number(train1[\"author\"])\n",
    "test_core_number = get_core_number(test1[\"author\"])\n",
    "\n",
    "X_train,y_train = format_data(train1, model0, train_core_number)\n",
    "X_test, y_test = format_data(test1, model0, test_core_number)"
   ]
  },
  {
   "cell_type": "markdown",
   "metadata": {},
   "source": [
    "**Random forest**"
   ]
  },
  {
   "cell_type": "code",
   "execution_count": 18,
   "metadata": {},
   "outputs": [
    {
     "name": "stdout",
     "output_type": "stream",
     "text": [
      "(7500, 15)\n"
     ]
    }
   ],
   "source": [
    "print(X_train[:, :-1].shape)"
   ]
  },
  {
   "cell_type": "code",
   "execution_count": 10,
   "metadata": {},
   "outputs": [
    {
     "data": {
      "text/plain": [
       "RandomForestRegressor(random_state=1)"
      ]
     },
     "execution_count": 10,
     "metadata": {},
     "output_type": "execute_result"
    }
   ],
   "source": [
    "from sklearn.ensemble import RandomForestRegressor\n",
    "from sklearn.metrics import mean_squared_error\n",
    "\n",
    "forest_model = RandomForestRegressor(random_state=1)\n",
    "forest_model.fit(X_train[:, :-1],y_train)"
   ]
  },
  {
   "cell_type": "code",
   "execution_count": 11,
   "metadata": {},
   "outputs": [],
   "source": [
    "mod_preds = forest_model.predict(X_test[:, :-1])"
   ]
  },
  {
   "cell_type": "code",
   "execution_count": 12,
   "metadata": {},
   "outputs": [
    {
     "data": {
      "text/plain": [
       "73.96608746427113"
      ]
     },
     "execution_count": 12,
     "metadata": {},
     "output_type": "execute_result"
    }
   ],
   "source": [
    "mean_squared_error(y_test,mod_preds)"
   ]
  },
  {
   "cell_type": "markdown",
   "metadata": {},
   "source": [
    "**XG_BOOST**"
   ]
  },
  {
   "cell_type": "code",
   "execution_count": null,
   "metadata": {},
   "outputs": [],
   "source": [
    "from xgboost import XGBRegressor\n",
    "from sklearn.model_selection import GridSearchCV\n",
    "\n",
    "model_xg = XGBRegressor()\n",
    "parameters = {\n",
    "    'learning_rate':[0.01,0.1,0.6],\n",
    "    'max_depth':[3,5,10],\n",
    "    'subsample':[0.5,0.7],\n",
    "    'n_estimators':[300,500],\n",
    "    'objective':['reg:linear']\n",
    "}\n",
    "model_tune = GridSearchCV(estimator=model_xg,param_grid = parameters,scoring = 'neg_mean_squared_error',cv =3, n_jobs=-1)"
   ]
  },
  {
   "cell_type": "code",
   "execution_count": null,
   "metadata": {},
   "outputs": [
    {
     "name": "stdout",
     "output_type": "stream",
     "text": [
      "[01:34:45] WARNING: C:/Users/Administrator/workspace/xgboost-win64_release_1.5.0/src/objective/regression_obj.cu:188: reg:linear is now deprecated in favor of reg:squarederror.\n",
      "{'learning_rate': 0.01, 'max_depth': 5, 'n_estimators': 500, 'objective': 'reg:linear', 'subsample': 0.5}\n",
      "-45.013116800100214\n"
     ]
    }
   ],
   "source": [
    "model_tune.fit(X_train,y_train)\n",
    "print(model_tune.best_params_)\n",
    "print(model_tune.best_score_)"
   ]
  },
  {
   "cell_type": "markdown",
   "metadata": {},
   "source": [
    "**test linear regression**"
   ]
  },
  {
   "cell_type": "code",
   "execution_count": null,
   "metadata": {},
   "outputs": [],
   "source": [
    "from sklearn.linear_model import LinearRegression\n",
    "\n",
    "reg = LinearRegression().fit(X_train,y_train)"
   ]
  },
  {
   "cell_type": "code",
   "execution_count": null,
   "metadata": {},
   "outputs": [],
   "source": [
    "reg_pred = reg.predict(X_test)"
   ]
  },
  {
   "cell_type": "code",
   "execution_count": null,
   "metadata": {},
   "outputs": [
    {
     "data": {
      "text/plain": [
       "94.56054104116866"
      ]
     },
     "execution_count": 24,
     "metadata": {},
     "output_type": "execute_result"
    }
   ],
   "source": [
    "mean_squared_error(y_test,reg_pred)"
   ]
  },
  {
   "cell_type": "markdown",
   "metadata": {},
   "source": []
  },
  {
   "cell_type": "markdown",
   "metadata": {},
   "source": [
    "**test svm**"
   ]
  },
  {
   "cell_type": "code",
   "execution_count": null,
   "metadata": {},
   "outputs": [],
   "source": [
    "from sklearn.svm import SVC\n",
    "\n",
    "model_svm =SVC(kernel='sigmoid', C=2)"
   ]
  },
  {
   "cell_type": "code",
   "execution_count": null,
   "metadata": {},
   "outputs": [
    {
     "data": {
      "text/plain": [
       "SVC(C=2, kernel='sigmoid')"
      ]
     },
     "execution_count": 26,
     "metadata": {},
     "output_type": "execute_result"
    }
   ],
   "source": [
    "model_svm.fit(X_train,y_train)"
   ]
  },
  {
   "cell_type": "code",
   "execution_count": null,
   "metadata": {},
   "outputs": [],
   "source": [
    "svm_pred = model_svm.predict(X_test)"
   ]
  },
  {
   "cell_type": "code",
   "execution_count": null,
   "metadata": {},
   "outputs": [
    {
     "data": {
      "text/plain": [
       "155.67465894997932"
      ]
     },
     "execution_count": 28,
     "metadata": {},
     "output_type": "execute_result"
    }
   ],
   "source": [
    "mean_squared_error(y_test,svm_pred)"
   ]
  },
  {
   "cell_type": "markdown",
   "metadata": {},
   "source": [
    "**Test CNN**"
   ]
  },
  {
   "cell_type": "code",
   "execution_count": null,
   "metadata": {},
   "outputs": [],
   "source": [
    "# mlp = MLP"
   ]
  },
  {
   "cell_type": "markdown",
   "metadata": {},
   "source": [
    "# Soumission"
   ]
  },
  {
   "cell_type": "code",
   "execution_count": null,
   "metadata": {},
   "outputs": [],
   "source": [
    "from submit import submit\n",
    "\n",
    "submit()"
   ]
  }
 ],
 "metadata": {
  "interpreter": {
   "hash": "f80d8b31525b6ea3adcf22249f5b1a58cdfe6d9f8b553721dcb1dc5ebfc8b9f9"
  },
  "kernelspec": {
   "display_name": "Python 3.8.8 64-bit ('base': conda)",
   "language": "python",
   "name": "python3"
  },
  "language_info": {
   "codemirror_mode": {
    "name": "ipython",
    "version": 3
   },
   "file_extension": ".py",
   "mimetype": "text/x-python",
   "name": "python",
   "nbconvert_exporter": "python",
   "pygments_lexer": "ipython3",
   "version": "3.9.7"
  },
  "orig_nbformat": 4
 },
 "nbformat": 4,
 "nbformat_minor": 2
}
